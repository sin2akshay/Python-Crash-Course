{
  "nbformat": 4,
  "nbformat_minor": 0,
  "metadata": {
    "colab": {
      "name": "Untitled2.ipynb",
      "version": "0.3.2",
      "provenance": [],
      "include_colab_link": true
    },
    "kernelspec": {
      "name": "python3",
      "display_name": "Python 3"
    }
  },
  "cells": [
    {
      "cell_type": "markdown",
      "metadata": {
        "id": "view-in-github",
        "colab_type": "text"
      },
      "source": [
        "<a href=\"https://colab.research.google.com/github/sin2akshay/Python-Crash-Course/blob/master/Chapter6/Chapter%206%20-%20Dictionaries.ipynb\" target=\"_parent\"><img src=\"https://colab.research.google.com/assets/colab-badge.svg\" alt=\"Open In Colab\"/></a>"
      ]
    },
    {
      "metadata": {
        "id": "RsBoBgnbQYCE",
        "colab_type": "text"
      },
      "cell_type": "markdown",
      "source": [
        "# Chapter 6 - Dictionaries\n",
        "Understanding dictionaries allows you to model a variety of real-world objects more accurately. You’ll be able to create a dictionary representing a person and then store as much information as you want about that person. You can store their name, age, location, profession, and any other aspect of a person you can describe. You’ll be able to store any two kinds of information that can be matched up, such as a list of words and their meanings, a list of people’s names and their favorite numbers, a list of mountains and their elevations, and so forth."
      ]
    },
    {
      "metadata": {
        "id": "pXOYnhjaQfbY",
        "colab_type": "text"
      },
      "cell_type": "markdown",
      "source": [
        "## A Simple Dictionary\n",
        "Consider a game featuring aliens that can have different colors and point values. This simple dictionary stores information about a particular alien:"
      ]
    },
    {
      "metadata": {
        "id": "A-RpBOY7O94a",
        "colab_type": "code",
        "colab": {}
      },
      "cell_type": "code",
      "source": [
        "alien_0 = {'color': 'green', 'points': 5}\n",
        "\n",
        "print(alien_0['color'])\n",
        "print(alien_0['points'])"
      ],
      "execution_count": 0,
      "outputs": []
    },
    {
      "metadata": {
        "id": "Psm82uLMQoto",
        "colab_type": "text"
      },
      "cell_type": "markdown",
      "source": [
        "## Working with Dictionaries\n",
        "A ***`dictionary`*** in Python is a collection of ***`key-value pairs`***. Each key is connected to a value, and you can use a key to access the value associated with that key. A key’s value can be a number, a string, a list, or even another dictionary. In fact, you can use any object that you can create in Python as a value in a dictionary."
      ]
    },
    {
      "metadata": {
        "id": "qKjXdJrDQ90u",
        "colab_type": "text"
      },
      "cell_type": "markdown",
      "source": [
        "In Python, a dictionary is wrapped in braces, `{}`, with a series of keyvalue pairs inside the braces, as shown in the earlier example."
      ]
    },
    {
      "metadata": {
        "id": "gqLawRf2RKkB",
        "colab_type": "text"
      },
      "cell_type": "markdown",
      "source": [
        "A ***`key-value`*** pair is a set of values associated with each other. When you provide a key, Python returns the value associated with that key. Every key is connected to its value by a colon, and individual key-value pairs are separated by commas. You can store as many key-value pairs as you want in a dictionary."
      ]
    },
    {
      "metadata": {
        "id": "AShqoTKsRoSo",
        "colab_type": "text"
      },
      "cell_type": "markdown",
      "source": [
        "### Accessing Values in a Dictionary\n",
        "To get the value associated with a key, give the name of the dictionary and then place the key inside a set of square brackets, as shown here:"
      ]
    },
    {
      "metadata": {
        "id": "p12cPl_CRsqi",
        "colab_type": "code",
        "colab": {}
      },
      "cell_type": "code",
      "source": [
        "alien_0 = {'color': 'green'}\n",
        "\n",
        "print(alien_0['color'])"
      ],
      "execution_count": 0,
      "outputs": []
    },
    {
      "metadata": {
        "id": "xpdfc7L6RsIY",
        "colab_type": "text"
      },
      "cell_type": "markdown",
      "source": [
        "You can have an unlimited number of key-value pairs in a dictionary."
      ]
    },
    {
      "metadata": {
        "id": "7MQn2y-CR5Tr",
        "colab_type": "text"
      },
      "cell_type": "markdown",
      "source": [
        "### Adding New Key-Value Pairs\n",
        "Dictionaries are dynamic structures, and you can add new key-value pairs to a dictionary at any time. For example, to add a new key-value pair, you would give the name of the dictionary followed by the new key in square brackets along with the new value."
      ]
    },
    {
      "metadata": {
        "id": "HRZGKXN_SEuQ",
        "colab_type": "text"
      },
      "cell_type": "markdown",
      "source": [
        "Let’s add two new pieces of information to the alien_0 dictionary: the alien’s x- and y-coordinates, which will help us display the alien in a particular position on the screen."
      ]
    },
    {
      "metadata": {
        "id": "nORUDGqpQ89N",
        "colab_type": "code",
        "colab": {}
      },
      "cell_type": "code",
      "source": [
        "alien_0 = {'color': 'green', 'points': 5}\n",
        "print(alien_0)\n",
        "\n",
        "alien_0['x_position'] = 0\n",
        "alien_0['y_position'] = 25\n",
        "print(alien_0)"
      ],
      "execution_count": 0,
      "outputs": []
    },
    {
      "metadata": {
        "id": "mfoROXmtSTZZ",
        "colab_type": "text"
      },
      "cell_type": "markdown",
      "source": [
        "### Starting with an Empty Dictionary\n",
        "It’s sometimes convenient, or even necessary, to start with an empty dictionary and then add each new item to it. To start filling an empty dictionary, define a dictionary with an empty set of braces and then add each key-value pair on its own line. For example, here’s how to build the `alien_0` dictionary using this approach:"
      ]
    },
    {
      "metadata": {
        "id": "_zVTzdkESUdS",
        "colab_type": "code",
        "colab": {}
      },
      "cell_type": "code",
      "source": [
        "alien_0 = {}\n",
        "\n",
        "alien_0['color'] = 'green'\n",
        "alien_0['points'] = 5\n",
        "\n",
        "print(alien_0)"
      ],
      "execution_count": 0,
      "outputs": []
    },
    {
      "metadata": {
        "id": "laQXtWimSd3S",
        "colab_type": "text"
      },
      "cell_type": "markdown",
      "source": [
        "### Modifying Values in a Dictionary\n",
        "To modify a value in a dictionary, give the name of the dictionary with the key in square brackets and then the new value you want associated with that key. For example, consider an alien that changes from green to yellow as a game progresses:"
      ]
    },
    {
      "metadata": {
        "id": "puPQOVkBSlR6",
        "colab_type": "code",
        "colab": {}
      },
      "cell_type": "code",
      "source": [
        "alien_0 = {'color': 'green'}\n",
        "print(\"The alien is \" + alien_0['color'] + \".\")\n",
        "\n",
        "alien_0['color'] = 'yellow'\n",
        "print(\"The alien is now \" + alien_0['color'] + \".\")"
      ],
      "execution_count": 0,
      "outputs": []
    },
    {
      "metadata": {
        "id": "ngz5zdEtSnHL",
        "colab_type": "text"
      },
      "cell_type": "markdown",
      "source": [
        "### Removing Key-Value Pairs\n",
        "When you no longer need a piece of information that’s stored in a dictionary, you can use the `del` statement to completely remove a key-value pair.\n",
        "All `del` needs is the name of the dictionary and the key that you want to remove.\n"
      ]
    },
    {
      "metadata": {
        "id": "5BjYVA0xTFEL",
        "colab_type": "text"
      },
      "cell_type": "markdown",
      "source": [
        "For example, let’s remove the key 'points' from the `alien_0` dictionary along with its value:"
      ]
    },
    {
      "metadata": {
        "id": "4tjLfdInTFca",
        "colab_type": "code",
        "colab": {}
      },
      "cell_type": "code",
      "source": [
        "alien_0 = {'color': 'green', 'points': 5}\n",
        "print(alien_0)\n",
        "\n",
        "del alien_0['points']\n",
        "print(alien_0)"
      ],
      "execution_count": 0,
      "outputs": []
    },
    {
      "metadata": {
        "id": "8HpdVw0vTILj",
        "colab_type": "text"
      },
      "cell_type": "markdown",
      "source": [
        "**NOTE:**  \n",
        "***`Be aware that the deleted key-value pair is removed permanently.`***"
      ]
    },
    {
      "metadata": {
        "id": "Kab4vsewTOcq",
        "colab_type": "text"
      },
      "cell_type": "markdown",
      "source": [
        "## Looping Through a Dictionary\n",
        "A single Python dictionary can contain just a few key-value pairs or millions of pairs. Because a dictionary can contain large amounts of data, Python lets you loop through a dictionary. Dictionaries can be used to store information in a variety of ways; therefore, several different ways exist to loop through them. You can loop through all of a dictionary’s key-value pairs, through its keys, or through its values."
      ]
    },
    {
      "metadata": {
        "id": "JwDzwLbITx1-",
        "colab_type": "text"
      },
      "cell_type": "markdown",
      "source": [
        "### Looping Through All Key-Value Pairs\n",
        "Let’s consider a new dictionary designed to store information about a user on a website. If you wanted to see everything stored in this user’s dictionary, you could loop through the dictionary using a for loop:"
      ]
    },
    {
      "metadata": {
        "id": "jSJCR9eIUFmI",
        "colab_type": "code",
        "colab": {}
      },
      "cell_type": "code",
      "source": [
        "user_0 = {\n",
        "'username': 'efermi',\n",
        "'first': 'enrico',\n",
        "'last': 'fermi',\n",
        "}\n",
        "\n",
        "for key, value in user_0.items():\n",
        "    print(\"\\nKey: \" + key)\n",
        "    print(\"Value: \" + value)"
      ],
      "execution_count": 0,
      "outputs": []
    },
    {
      "metadata": {
        "id": "H_gk21SFUYFY",
        "colab_type": "text"
      },
      "cell_type": "markdown",
      "source": [
        "As shown, to write a for loop for a dictionary, you create names for the two variables that will hold the key and value in each key-value pair. You\n",
        "can choose any names you want for these two variables. This code would work just as well if you had used abbreviations for the variable names, like this:\n",
        "\n",
        "\n",
        "---\n",
        "\n",
        "\n",
        "\n",
        "```\n",
        "for k, v in user_0.items()\n",
        "```\n",
        "\n",
        "\n",
        "---\n",
        "\n",
        "The second half of the for statement at u includes the name of the dictionary followed by the method ***`items()`***, which returns a list of key-value pairs. The for loop then stores each of these pairs in the two variables provided.\n",
        "\n"
      ]
    },
    {
      "metadata": {
        "id": "wx5_zzaaUslB",
        "colab_type": "text"
      },
      "cell_type": "markdown",
      "source": [
        "Notice again that the key-value pairs are not returned in the order in which they were stored, even when looping through a dictionary. Python doesn’t care about the order in which key-value pairs are stored; it tracks only the connections between individual keys and their values."
      ]
    },
    {
      "metadata": {
        "id": "EPNrwOvnU-8J",
        "colab_type": "text"
      },
      "cell_type": "markdown",
      "source": [
        "### Looping Through All the Keys in a Dictionary\n",
        "The ***`keys()`*** method is useful when you don’t need to work with all of the values in a dictionary. Let’s loop through the favorite_languages dictionary and print the names of everyone who took the poll. The program below tells Python to pull all the keys from the dictionary `favorite_languages` and store them one at a time in the variable name and then print them."
      ]
    },
    {
      "metadata": {
        "id": "PvroA6NFVMTx",
        "colab_type": "code",
        "colab": {}
      },
      "cell_type": "code",
      "source": [
        "favorite_languages = {\n",
        "'jen': 'python',\n",
        "'sarah': 'c',\n",
        "'edward': 'ruby',\n",
        "'phil': 'python',\n",
        "}\n",
        "\n",
        "for name in favorite_languages.keys():\n",
        "    print(name.title())"
      ],
      "execution_count": 0,
      "outputs": []
    },
    {
      "metadata": {
        "id": "mgVi3m0bpshC",
        "colab_type": "text"
      },
      "cell_type": "markdown",
      "source": [
        ""
      ]
    }
  ]
}