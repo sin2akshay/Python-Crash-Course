{
  "nbformat": 4,
  "nbformat_minor": 0,
  "metadata": {
    "colab": {
      "name": "Untitled3.ipynb",
      "version": "0.3.2",
      "provenance": [],
      "include_colab_link": true
    },
    "kernelspec": {
      "name": "python3",
      "display_name": "Python 3"
    }
  },
  "cells": [
    {
      "cell_type": "markdown",
      "metadata": {
        "id": "view-in-github",
        "colab_type": "text"
      },
      "source": [
        "<a href=\"https://colab.research.google.com/github/sin2akshay/Python-Crash-Course/blob/master/Chapter3/Chapter3.ipynb\" target=\"_parent\"><img src=\"https://colab.research.google.com/assets/colab-badge.svg\" alt=\"Open In Colab\"/></a>"
      ]
    },
    {
      "metadata": {
        "id": "dpj4JEwLB-El",
        "colab_type": "text"
      },
      "cell_type": "markdown",
      "source": [
        "# Introducing Lists\n",
        "A list is a collection of items in a particular order. You can put anything you want into a list, and the items in your list don’t have to be related in any particular way. Because a list usually contains more than one element, it’s a good idea to make the name of your list plural, such as letters, digits, or names.  \n",
        "  \n",
        "In Python, square brackets (`[]`) indicate a list, and individual elements in the list are separated by commas. Here’s a simple example of a list that contains a few kinds of bicycles:"
      ]
    },
    {
      "metadata": {
        "id": "fKi5sqFLuZjC",
        "colab_type": "code",
        "colab": {}
      },
      "cell_type": "code",
      "source": [
        "bicycles = ['trek', 'cannondale', 'redline', 'specialized']\n",
        "\n",
        "print(bicycles)"
      ],
      "execution_count": 0,
      "outputs": []
    },
    {
      "metadata": {
        "id": "kPPTS803Cg3B",
        "colab_type": "text"
      },
      "cell_type": "markdown",
      "source": [
        "## Accessing Elements in a List\n",
        "Lists are **ordered collections**, so you can access any element in a list by telling Python the position, or ***index***, of the item desired. To access an element in a list, write the name of the list followed by the index of the item enclosed in square brackets.\n",
        "  \n",
        "For example, let’s pull out the first bicycle in the list bicycles:"
      ]
    },
    {
      "metadata": {
        "id": "KQNiMET2CuCh",
        "colab_type": "code",
        "colab": {}
      },
      "cell_type": "code",
      "source": [
        "bicycles = ['trek', 'cannondale', 'redline', 'specialized']\n",
        "\n",
        "print(bicycles[0])"
      ],
      "execution_count": 0,
      "outputs": []
    },
    {
      "metadata": {
        "id": "bEGtW4d9C6Ka",
        "colab_type": "text"
      },
      "cell_type": "markdown",
      "source": [
        "#### Remember: \n",
        "Python considers the first item in a list to be at position 0, not position 1. This is true of most programming languages, and the reason has to do withhow the list operations are implemented at a lower level. If you’re receiving unexpected results, determine whether you are making a simple off-by-one error."
      ]
    },
    {
      "metadata": {
        "id": "k3BEwwi1DDV4",
        "colab_type": "text"
      },
      "cell_type": "markdown",
      "source": [
        "Python has a special syntax for accessing the last element in a list. By asking for the item at index -1, Python always returns the last item in the list:"
      ]
    },
    {
      "metadata": {
        "id": "XcWbLKOeC8fA",
        "colab_type": "code",
        "colab": {}
      },
      "cell_type": "code",
      "source": [
        "bicycles = ['trek', 'cannondale', 'redline', 'specialized']\n",
        "\n",
        "print(bicycles[-1])"
      ],
      "execution_count": 0,
      "outputs": []
    },
    {
      "metadata": {
        "id": "Cpq0Hl9uDK3f",
        "colab_type": "text"
      },
      "cell_type": "markdown",
      "source": [
        "## Changing, Adding, and Removing Elements\n",
        "Most lists you create will be dynamic, meaning you’ll build a list and then add and remove elements from it as your program runs its course."
      ]
    },
    {
      "metadata": {
        "id": "xV8PkodRDWNA",
        "colab_type": "text"
      },
      "cell_type": "markdown",
      "source": [
        "### Modifying Elements in a List \n",
        "The syntax for modifying an element is similar to the syntax for accessing an element in a list. To change an element, use the name of the list followed by the index of the element you want to change, and then provide the new value you want that item to have."
      ]
    },
    {
      "metadata": {
        "id": "dzEnWW9ODLjf",
        "colab_type": "code",
        "colab": {}
      },
      "cell_type": "code",
      "source": [
        "motorcycles = ['honda', 'yamaha', 'suzuki']\n",
        "print(motorcycles)\n",
        "\n",
        "motorcycles[0] = 'ducati'\n",
        "print(motorcycles)"
      ],
      "execution_count": 0,
      "outputs": []
    },
    {
      "metadata": {
        "id": "6uo5gqmRDjWY",
        "colab_type": "text"
      },
      "cell_type": "markdown",
      "source": [
        "### Adding Elements to a List\n"
      ]
    },
    {
      "metadata": {
        "id": "XniIRINKDpHP",
        "colab_type": "text"
      },
      "cell_type": "markdown",
      "source": [
        "#### Appending Elements to the End of a List\n",
        "The simplest way to add a new element to a list is to append the item to the list. When you append an item to a list, the new element is added to the end of the list. Using the same list we had in the previous example, we’ll add the new element 'ducati' to the end of the list:"
      ]
    },
    {
      "metadata": {
        "id": "Ya1mG9eRFSxT",
        "colab_type": "code",
        "colab": {}
      },
      "cell_type": "code",
      "source": [
        "motorcycles = ['honda', 'yamaha', 'suzuki']\n",
        "print(motorcycles)\n",
        "\n",
        "motorcycles.append('ducati')\n",
        "print(motorcycles)"
      ],
      "execution_count": 0,
      "outputs": []
    },
    {
      "metadata": {
        "id": "aSIS3geiFa-s",
        "colab_type": "text"
      },
      "cell_type": "markdown",
      "source": [
        "The append() method makes it easy to build lists dynamically. For example, you can start with an empty list and then add items to the list using a series of append() statements. Using an empty list, let’s add the elements 'honda', 'yamaha', and 'suzuki' to the list:"
      ]
    },
    {
      "metadata": {
        "id": "JgX2Ccj8DqA_",
        "colab_type": "code",
        "colab": {}
      },
      "cell_type": "code",
      "source": [
        "motorcycles = []\n",
        "\n",
        "motorcycles.append('honda')\n",
        "motorcycles.append('yamaha')\n",
        "motorcycles.append('suzuki')\n",
        "\n",
        "print(motorcycles)"
      ],
      "execution_count": 0,
      "outputs": []
    },
    {
      "metadata": {
        "id": "hstq_0V8FfCj",
        "colab_type": "text"
      },
      "cell_type": "markdown",
      "source": [
        "#### Inserting Elements into a List\n",
        "You can add a new element at any position in your list by using the ***insert()*** method. You do this by specifying the index of the new element and the value of the new item."
      ]
    },
    {
      "metadata": {
        "id": "UO5gufiXMsCs",
        "colab_type": "code",
        "colab": {}
      },
      "cell_type": "code",
      "source": [
        "motorcycles = ['honda', 'yamaha', 'suzuki']\n",
        "\n",
        "motorcycles.insert(0, 'ducati')\n",
        "print(motorcycles)"
      ],
      "execution_count": 0,
      "outputs": []
    },
    {
      "metadata": {
        "id": "FvkN2lshMxfK",
        "colab_type": "text"
      },
      "cell_type": "markdown",
      "source": [
        "### Removing Elements from a List\n",
        "Often, you’ll want to remove an item or a set of items from a list. You can remove an item according to its position in the list or according to its value."
      ]
    },
    {
      "metadata": {
        "id": "tx2r1Nn3NASV",
        "colab_type": "text"
      },
      "cell_type": "markdown",
      "source": [
        "#### Removing an Item Using the del Statement\n",
        "If you know the position of the item you want to remove from a list, you can use the del statement."
      ]
    },
    {
      "metadata": {
        "id": "_qXnaxF6M9J8",
        "colab_type": "code",
        "colab": {}
      },
      "cell_type": "code",
      "source": [
        "motorcycles = ['honda', 'yamaha', 'suzuki']\n",
        "print(motorcycles)\n",
        "\n",
        "del motorcycles[0]\n",
        "print(motorcycles)"
      ],
      "execution_count": 0,
      "outputs": []
    },
    {
      "metadata": {
        "id": "T_O1yADUACTp",
        "colab_type": "text"
      },
      "cell_type": "markdown",
      "source": [
        "#### Removing an Item Using the pop() Method\n",
        "Sometimes you’ll want to use the value of an item after you remove it from a list. For example, you might want to get the x and y position of an alien that was just shot down, so you can draw an explosion at that position. In a web application, you might want to remove a user from a list of active members and then add that user to a list of inactive members."
      ]
    },
    {
      "metadata": {
        "id": "b37iH2TEAMhv",
        "colab_type": "text"
      },
      "cell_type": "markdown",
      "source": [
        "The pop() method removes the last item in a list, but it lets you work with that item after removing it. As you can see in the code below, we retrieve the popped item and save it onto a variable to be used later."
      ]
    },
    {
      "metadata": {
        "id": "QkeDqDm9ATkG",
        "colab_type": "code",
        "colab": {}
      },
      "cell_type": "code",
      "source": [
        "motorcycles = ['honda', 'yamaha', 'suzuki']\n",
        "print(motorcycles)\n",
        "\n",
        "popped_motorcycle = motorcycles.pop()\n",
        "print(motorcycles)\n",
        "print(popped_motorcycle)"
      ],
      "execution_count": 0,
      "outputs": []
    },
    {
      "metadata": {
        "id": "VFLOLYs-CdVb",
        "colab_type": "text"
      },
      "cell_type": "markdown",
      "source": [
        "You can actually use pop() to remove an item in a list at any position by including the index of the item you want to remove in parentheses. Remember that each time you use pop(), the item you work with is no longer stored in the list."
      ]
    },
    {
      "metadata": {
        "id": "7uvrq5SFCj4s",
        "colab_type": "code",
        "colab": {}
      },
      "cell_type": "code",
      "source": [
        "motorcycles = ['honda', 'yamaha', 'suzuki']\n",
        "\n",
        "first_owned = motorcycles.pop(0)\n",
        "print('The first motorcycle I owned was a ' + first_owned.title() + '.')"
      ],
      "execution_count": 0,
      "outputs": []
    },
    {
      "metadata": {
        "id": "X1fmSqF5CxQ0",
        "colab_type": "text"
      },
      "cell_type": "markdown",
      "source": [
        "If you’re unsure whether to use the del statement or the pop() method, here’s a simple way to decide: when you want to delete an item from a list and not use that item in any way, use the del statement; if you want to use an item as you remove it, use the pop() method."
      ]
    },
    {
      "metadata": {
        "id": "g8pCCBl0C5Zr",
        "colab_type": "text"
      },
      "cell_type": "markdown",
      "source": [
        "#### Removing an Item by Value\n",
        "Sometimes you won’t know the position of the value you want to remove from a list. If you only know the value of the item you want to remove, you can use the remove() method. The following code tells Python to figure out where 'ducati' appears in the list and remove that element:"
      ]
    },
    {
      "metadata": {
        "id": "bitBF_u3C05K",
        "colab_type": "code",
        "colab": {}
      },
      "cell_type": "code",
      "source": [
        "motorcycles = ['honda', 'yamaha', 'suzuki', 'ducati']\n",
        "print(motorcycles)\n",
        "\n",
        "motorcycles.remove('ducati')\n",
        "print(motorcycles)"
      ],
      "execution_count": 0,
      "outputs": []
    },
    {
      "metadata": {
        "id": "QorJnsGNDVVr",
        "colab_type": "text"
      },
      "cell_type": "markdown",
      "source": [
        "***NOTE: *** *The remove() method deletes only the first occurrence of the value you specify. If there’s a possibility the value appears more than once in the list, you’ll need to use a loop to determine if all occurrences of the value have been removed. You’ll learn how to do this in Chapter 7.*"
      ]
    },
    {
      "metadata": {
        "id": "cmGp90_cEJLi",
        "colab_type": "text"
      },
      "cell_type": "markdown",
      "source": [
        "### Organizing a List \n",
        "Often, your lists will be created in an unpredictable order, because you can’t always control the order in which your users provide their data. Although this is unavoidable in most circumstances, you’ll frequently want to present your information in a particular order. Sometimes you’ll want to preserve the original order of your list, and other times you’ll want to change the original order. Python provides a number of different ways to organize your lists, depending on the situation."
      ]
    },
    {
      "metadata": {
        "id": "yzkEF1s9ERFj",
        "colab_type": "text"
      },
      "cell_type": "markdown",
      "source": [
        "#### Sorting a List Permanently with the sort() Method\n",
        "Python’s sort() method makes it relatively easy to sort a list. Imagine we have a list of cars and want to change the order of the list to store them alphabetically. To keep the task simple, let’s assume that all the values in the list are lowercase. The sort() method, shown below, changes the order of the list permanently."
      ]
    },
    {
      "metadata": {
        "id": "rlw579-5Ee-F",
        "colab_type": "code",
        "colab": {}
      },
      "cell_type": "code",
      "source": [
        "cars = ['bmw', 'audi', 'toyota', 'subaru']\n",
        "\n",
        "cars.sort()\n",
        "print(cars)"
      ],
      "execution_count": 0,
      "outputs": []
    },
    {
      "metadata": {
        "id": "qzQGMzHEEoeI",
        "colab_type": "text"
      },
      "cell_type": "markdown",
      "source": [
        "You can also sort this list in reverse alphabetical order by passing the argument **reverse=True** to the sort() method."
      ]
    },
    {
      "metadata": {
        "id": "fH4CrBjhEuzW",
        "colab_type": "code",
        "colab": {}
      },
      "cell_type": "code",
      "source": [
        "cars = ['bmw', 'audi', 'toyota', 'subaru']\n",
        "\n",
        "cars.sort(reverse=True)\n",
        "print(cars)"
      ],
      "execution_count": 0,
      "outputs": []
    },
    {
      "metadata": {
        "id": "V5SPfEBNE0Af",
        "colab_type": "text"
      },
      "cell_type": "markdown",
      "source": [
        "#### Sorting a List Temporarily with the sorted() Function\n",
        "To maintain the original order of a list but present it in a sorted order, you can use the sorted() function. The sorted() function lets you display your list in a particular order but doesn’t affect the actual order of the list."
      ]
    },
    {
      "metadata": {
        "id": "XWNbv-pkE7Cw",
        "colab_type": "code",
        "colab": {}
      },
      "cell_type": "code",
      "source": [
        "cars = ['bmw', 'audi', 'toyota', 'subaru']\n",
        "\n",
        "print(\"Here is the original list:\")\n",
        "print(cars)\n",
        "\n",
        "print(\"\\nHere is the sorted list:\")\n",
        "print(sorted(cars))\n",
        "\n",
        "print(\"\\nHere is the original list again:\")\n",
        "print(cars)"
      ],
      "execution_count": 0,
      "outputs": []
    },
    {
      "metadata": {
        "id": "nbrQPR5TFBKf",
        "colab_type": "text"
      },
      "cell_type": "markdown",
      "source": [
        "***NOTE:*** *Sorting a list alphabetically is a bit more complicated when all the values are not in lowercase. There are several ways to interpret capital letters when you’re deciding on a sort order, and specifying the exact order can be more complex than we want to deal with at this time. However, most approaches to sorting will build directly on what you learned in this section.*"
      ]
    },
    {
      "metadata": {
        "id": "n3fh-6BvFXNH",
        "colab_type": "text"
      },
      "cell_type": "markdown",
      "source": [
        "#### Printing a List in Reverse Order\n",
        "To reverse the original order of a list, you can use the reverse() method. If we originally stored the list of cars in chronological order according to when we owned them, we could easily rearrange the list into reverse chronological order. Notice that reverse() doesn’t sort backward alphabetically; it simply reverses the order of the list:"
      ]
    },
    {
      "metadata": {
        "id": "Wr9MkO8zFrOX",
        "colab_type": "code",
        "colab": {}
      },
      "cell_type": "code",
      "source": [
        "cars = ['bmw', 'audi', 'toyota', 'subaru']\n",
        "print(cars)\n",
        "\n",
        "cars.reverse()\n",
        "print(cars)"
      ],
      "execution_count": 0,
      "outputs": []
    },
    {
      "metadata": {
        "id": "8_VhytirFt5f",
        "colab_type": "text"
      },
      "cell_type": "markdown",
      "source": [
        "#### Finding the Length of a List\n",
        "You can quickly find the length of a list by using the len() function. The list in this example has four items, so its length is 4:"
      ]
    },
    {
      "metadata": {
        "id": "e5w15hqjF4hA",
        "colab_type": "code",
        "colab": {}
      },
      "cell_type": "code",
      "source": [
        "cars = ['bmw', 'audi', 'toyota', 'subaru']\n",
        "\n",
        "print(len(cars))"
      ],
      "execution_count": 0,
      "outputs": []
    },
    {
      "metadata": {
        "id": "GDBYMh2dGPUZ",
        "colab_type": "text"
      },
      "cell_type": "markdown",
      "source": [
        "***NOTE:*** *If an index error occurs and you can’t figure out how to resolve it, try printing your list or just printing the length of your list. Your list might look much different than you thought it did, especially if it has been managed dynamically by your program. Seeing the actual list, or the exact number of items in your list, can help you sort out such logical errors.*"
      ]
    }
  ]
}