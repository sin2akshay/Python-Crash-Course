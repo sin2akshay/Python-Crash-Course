{
  "nbformat": 4,
  "nbformat_minor": 0,
  "metadata": {
    "colab": {
      "name": "Untitled3.ipynb",
      "version": "0.3.2",
      "provenance": [],
      "include_colab_link": true
    },
    "kernelspec": {
      "name": "python3",
      "display_name": "Python 3"
    }
  },
  "cells": [
    {
      "cell_type": "markdown",
      "metadata": {
        "id": "view-in-github",
        "colab_type": "text"
      },
      "source": [
        "<a href=\"https://colab.research.google.com/github/sin2akshay/Python-Crash-Course/blob/master/Chapter3/Chapter3.ipynb\" target=\"_parent\"><img src=\"https://colab.research.google.com/assets/colab-badge.svg\" alt=\"Open In Colab\"/></a>"
      ]
    },
    {
      "metadata": {
        "id": "dpj4JEwLB-El",
        "colab_type": "text"
      },
      "cell_type": "markdown",
      "source": [
        "# Introducing Lists\n",
        "A list is a collection of items in a particular order. You can put anything you want into a list, and the items in your list don’t have to be related in any particular way. Because a list usually contains more than one element, it’s a good idea to make the name of your list plural, such as letters, digits, or names.  \n",
        "  \n",
        "In Python, square brackets (`[]`) indicate a list, and individual elements in the list are separated by commas. Here’s a simple example of a list that contains a few kinds of bicycles:"
      ]
    },
    {
      "metadata": {
        "id": "fKi5sqFLuZjC",
        "colab_type": "code",
        "colab": {}
      },
      "cell_type": "code",
      "source": [
        "bicycles = ['trek', 'cannondale', 'redline', 'specialized']\n",
        "\n",
        "print(bicycles)"
      ],
      "execution_count": 0,
      "outputs": []
    },
    {
      "metadata": {
        "id": "kPPTS803Cg3B",
        "colab_type": "text"
      },
      "cell_type": "markdown",
      "source": [
        "## Accessing Elements in a List\n",
        "Lists are **ordered collections**, so you can access any element in a list by telling Python the position, or ***index***, of the item desired. To access an element in a list, write the name of the list followed by the index of the item enclosed in square brackets.\n",
        "  \n",
        "For example, let’s pull out the first bicycle in the list bicycles:"
      ]
    },
    {
      "metadata": {
        "id": "KQNiMET2CuCh",
        "colab_type": "code",
        "colab": {}
      },
      "cell_type": "code",
      "source": [
        "bicycles = ['trek', 'cannondale', 'redline', 'specialized']\n",
        "\n",
        "print(bicycles[0])"
      ],
      "execution_count": 0,
      "outputs": []
    },
    {
      "metadata": {
        "id": "bEGtW4d9C6Ka",
        "colab_type": "text"
      },
      "cell_type": "markdown",
      "source": [
        "#### Remember: \n",
        "Python considers the first item in a list to be at position 0, not position 1. This is true of most programming languages, and the reason has to do withhow the list operations are implemented at a lower level. If you’re receiving unexpected results, determine whether you are making a simple off-by-one error."
      ]
    },
    {
      "metadata": {
        "id": "k3BEwwi1DDV4",
        "colab_type": "text"
      },
      "cell_type": "markdown",
      "source": [
        "Python has a special syntax for accessing the last element in a list. By asking for the item at index -1, Python always returns the last item in the list:"
      ]
    },
    {
      "metadata": {
        "id": "XcWbLKOeC8fA",
        "colab_type": "code",
        "colab": {}
      },
      "cell_type": "code",
      "source": [
        "bicycles = ['trek', 'cannondale', 'redline', 'specialized']\n",
        "\n",
        "print(bicycles[-1])"
      ],
      "execution_count": 0,
      "outputs": []
    },
    {
      "metadata": {
        "id": "Cpq0Hl9uDK3f",
        "colab_type": "text"
      },
      "cell_type": "markdown",
      "source": [
        "## Changing, Adding, and Removing Elements\n",
        "Most lists you create will be dynamic, meaning you’ll build a list and then add and remove elements from it as your program runs its course."
      ]
    },
    {
      "metadata": {
        "id": "xV8PkodRDWNA",
        "colab_type": "text"
      },
      "cell_type": "markdown",
      "source": [
        "### Modifying Elements in a List \n",
        "The syntax for modifying an element is similar to the syntax for accessing an element in a list. To change an element, use the name of the list followed by the index of the element you want to change, and then provide the new value you want that item to have."
      ]
    },
    {
      "metadata": {
        "id": "dzEnWW9ODLjf",
        "colab_type": "code",
        "colab": {}
      },
      "cell_type": "code",
      "source": [
        "motorcycles = ['honda', 'yamaha', 'suzuki']\n",
        "print(motorcycles)\n",
        "\n",
        "motorcycles[0] = 'ducati'\n",
        "print(motorcycles)"
      ],
      "execution_count": 0,
      "outputs": []
    },
    {
      "metadata": {
        "id": "6uo5gqmRDjWY",
        "colab_type": "text"
      },
      "cell_type": "markdown",
      "source": [
        "### Adding Elements to a List\n"
      ]
    },
    {
      "metadata": {
        "id": "XniIRINKDpHP",
        "colab_type": "text"
      },
      "cell_type": "markdown",
      "source": [
        "#### Appending Elements to the End of a List\n",
        "The simplest way to add a new element to a list is to append the item to the list. When you append an item to a list, the new element is added to the end of the list. Using the same list we had in the previous example, we’ll add the new element 'ducati' to the end of the list:"
      ]
    },
    {
      "metadata": {
        "id": "Ya1mG9eRFSxT",
        "colab_type": "code",
        "colab": {}
      },
      "cell_type": "code",
      "source": [
        "motorcycles = ['honda', 'yamaha', 'suzuki']\n",
        "print(motorcycles)\n",
        "\n",
        "motorcycles.append('ducati')\n",
        "print(motorcycles)"
      ],
      "execution_count": 0,
      "outputs": []
    },
    {
      "metadata": {
        "id": "aSIS3geiFa-s",
        "colab_type": "text"
      },
      "cell_type": "markdown",
      "source": [
        "The append() method makes it easy to build lists dynamically. For example, you can start with an empty list and then add items to the list using a series of append() statements. Using an empty list, let’s add the elements 'honda', 'yamaha', and 'suzuki' to the list:"
      ]
    },
    {
      "metadata": {
        "id": "JgX2Ccj8DqA_",
        "colab_type": "code",
        "colab": {}
      },
      "cell_type": "code",
      "source": [
        "motorcycles = []\n",
        "\n",
        "motorcycles.append('honda')\n",
        "motorcycles.append('yamaha')\n",
        "motorcycles.append('suzuki')\n",
        "\n",
        "print(motorcycles)"
      ],
      "execution_count": 0,
      "outputs": []
    },
    {
      "metadata": {
        "id": "hstq_0V8FfCj",
        "colab_type": "text"
      },
      "cell_type": "markdown",
      "source": [
        "#### Inserting Elements into a List\n",
        "You can add a new element at any position in your list by using the ***insert()*** method. You do this by specifying the index of the new element and the value of the new item."
      ]
    },
    {
      "metadata": {
        "id": "UO5gufiXMsCs",
        "colab_type": "code",
        "colab": {}
      },
      "cell_type": "code",
      "source": [
        "motorcycles = ['honda', 'yamaha', 'suzuki']\n",
        "\n",
        "motorcycles.insert(0, 'ducati')\n",
        "print(motorcycles)"
      ],
      "execution_count": 0,
      "outputs": []
    },
    {
      "metadata": {
        "id": "FvkN2lshMxfK",
        "colab_type": "text"
      },
      "cell_type": "markdown",
      "source": [
        "### Removing Elements from a List\n",
        "Often, you’ll want to remove an item or a set of items from a list. You can remove an item according to its position in the list or according to its value."
      ]
    },
    {
      "metadata": {
        "id": "tx2r1Nn3NASV",
        "colab_type": "text"
      },
      "cell_type": "markdown",
      "source": [
        "#### Removing an Item Using the del Statement\n",
        "If you know the position of the item you want to remove from a list, you can use the del statement."
      ]
    },
    {
      "metadata": {
        "id": "_qXnaxF6M9J8",
        "colab_type": "code",
        "colab": {}
      },
      "cell_type": "code",
      "source": [
        ""
      ],
      "execution_count": 0,
      "outputs": []
    }
  ]
}