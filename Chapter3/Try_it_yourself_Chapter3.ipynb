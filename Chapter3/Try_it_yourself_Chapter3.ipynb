{
  "nbformat": 4,
  "nbformat_minor": 0,
  "metadata": {
    "colab": {
      "name": "Untitled4.ipynb",
      "version": "0.3.2",
      "provenance": [],
      "include_colab_link": true
    },
    "kernelspec": {
      "name": "python3",
      "display_name": "Python 3"
    }
  },
  "cells": [
    {
      "cell_type": "markdown",
      "metadata": {
        "id": "view-in-github",
        "colab_type": "text"
      },
      "source": [
        "<a href=\"https://colab.research.google.com/github/sin2akshay/Python-Crash-Course/blob/master/Chapter3/Try_it_yourself_Chapter3.ipynb\" target=\"_parent\"><img src=\"https://colab.research.google.com/assets/colab-badge.svg\" alt=\"Open In Colab\"/></a>"
      ]
    },
    {
      "metadata": {
        "id": "FEy5jt2aG5k_",
        "colab_type": "text"
      },
      "cell_type": "markdown",
      "source": [
        "# Try It Yourself\n",
        "Try these short programs to get some firsthand experience with Python’s lists. You might want to create a new folder for each chapter’s exercises to keep them organized."
      ]
    },
    {
      "metadata": {
        "id": "JYIrKx60G_Y2",
        "colab_type": "text"
      },
      "cell_type": "markdown",
      "source": [
        "#### 3-1. Names:\n",
        "Store the names of a few of your friends in a list called names. Print each person’s name by accessing each element in the list, one at a time."
      ]
    },
    {
      "metadata": {
        "id": "Ych9CpdIG4wN",
        "colab_type": "code",
        "colab": {
          "base_uri": "https://localhost:8080/",
          "height": 68
        },
        "outputId": "f071492f-e17b-4846-e375-6fd69cd1229a"
      },
      "cell_type": "code",
      "source": [
        "names = ['Amit', 'Shauvik', 'Apala']\n",
        "\n",
        "print(names[0])\n",
        "print(names[1])\n",
        "print(names[2])"
      ],
      "execution_count": 1,
      "outputs": [
        {
          "output_type": "stream",
          "text": [
            "Amit\n",
            "Shauvik\n",
            "Apala\n"
          ],
          "name": "stdout"
        }
      ]
    },
    {
      "metadata": {
        "id": "LGBCyf0MHgBo",
        "colab_type": "text"
      },
      "cell_type": "markdown",
      "source": [
        "#### 3-2. Greetings: \n",
        "Start with the list you used in Exercise 3-1, but instead of just printing each person’s name, print a message to them. The text of each message should be the same, but each message should be personalized with the person’s name."
      ]
    },
    {
      "metadata": {
        "id": "2gt-qIBUHsJP",
        "colab_type": "code",
        "colab": {
          "base_uri": "https://localhost:8080/",
          "height": 68
        },
        "outputId": "769169bf-f817-42f7-f427-65392366607b"
      },
      "cell_type": "code",
      "source": [
        "names = ['Amit', 'Shauvik', 'Apala']\n",
        "\n",
        "print(\"Hey \" + names[0] + \", let's go to a party tonight!\")\n",
        "print(\"Hey \" + names[1] + \", let's go to a party tonight!\")\n",
        "print(\"Hey \" + names[2] + \", let's go to a party tonight!\")"
      ],
      "execution_count": 2,
      "outputs": [
        {
          "output_type": "stream",
          "text": [
            "Hey Amit, let's go to a party tonight!\n",
            "Hey Shauvik, let's go to a party tonight!\n",
            "Hey Apala, let's go to a party tonight!\n"
          ],
          "name": "stdout"
        }
      ]
    },
    {
      "metadata": {
        "id": "iV6GUvP6IVyF",
        "colab_type": "text"
      },
      "cell_type": "markdown",
      "source": [
        "#### 3-3. Your Own List: \n",
        "Think of your favorite mode of transportation, such as a motorcycle or a car, and make a list that stores several examples. Use your list to print a series of statements about these items, such as “I would like to own a Honda motorcycle.”"
      ]
    },
    {
      "metadata": {
        "id": "n64E_sFBIcse",
        "colab_type": "code",
        "colab": {
          "base_uri": "https://localhost:8080/",
          "height": 68
        },
        "outputId": "48954d8d-1a07-4931-aace-3ebee6ba8d34"
      },
      "cell_type": "code",
      "source": [
        "cars = ['Audi', 'BMW', 'Honda']\n",
        "\n",
        "print(\"I would like to own an \" + cars[0] + \" car.\")\n",
        "print(\"I would like to own a \" + cars[1])\n",
        "print(\"I would like to drive a \" + cars[2] + \" motorcycle.\")"
      ],
      "execution_count": 3,
      "outputs": [
        {
          "output_type": "stream",
          "text": [
            "I would like to own an Audi car.\n",
            "I would like to own a BMW\n",
            "I would like to drive a Honda motorcycle.\n"
          ],
          "name": "stdout"
        }
      ]
    },
    {
      "metadata": {
        "id": "aK8r_k3EJReF",
        "colab_type": "text"
      },
      "cell_type": "markdown",
      "source": [
        "\n",
        "\n",
        "---\n",
        "\n",
        "\n",
        "***The following exercises are a bit more complex than those in Chapter 2, but they give you an opportunity to use lists in all of the ways described.***\n",
        "\n",
        "\n",
        "---\n",
        "\n"
      ]
    },
    {
      "metadata": {
        "id": "rU1ddh6mJZ3y",
        "colab_type": "text"
      },
      "cell_type": "markdown",
      "source": [
        "#### 3-4. Guest List: \n",
        "If you could invite anyone, living or deceased, to dinner, who would you invite? Make a list that includes at least three people you’d like to invite to dinner. Then use your list to print a message to each person, inviting them to dinner."
      ]
    },
    {
      "metadata": {
        "id": "Ti8-Zjt-JlRK",
        "colab_type": "code",
        "colab": {
          "base_uri": "https://localhost:8080/",
          "height": 68
        },
        "outputId": "4ce8d49c-5ad5-4310-da45-2a84d9007d91"
      },
      "cell_type": "code",
      "source": [
        "guests = ['Siraj','Dendi','Elon']\n",
        "\n",
        "print(\"Hi \"+ guests[0] + \", I am having a dinner party and you are invited!\")\n",
        "print(\"Hi \"+ guests[1] + \", I am having a dinner party and you are invited!\")\n",
        "print(\"Hi \"+ guests[2] + \", I am having a dinner party and you are invited!\")"
      ],
      "execution_count": 4,
      "outputs": [
        {
          "output_type": "stream",
          "text": [
            "Hi Siraj, I am having a dinner party and you are invited!\n",
            "Hi Dendi, I am having a dinner party and you are invited!\n",
            "Hi Elon, I am having a dinner party and you are invited!\n"
          ],
          "name": "stdout"
        }
      ]
    },
    {
      "metadata": {
        "id": "8chDnRJIKrQD",
        "colab_type": "text"
      },
      "cell_type": "markdown",
      "source": [
        "#### 3-5. Changing Guest List: \n",
        "You just heard that one of your guests can’t make the dinner, so you need to send out a new set of invitations. You’ll have to think of someone else to invite.\n",
        "*   Start with your program from Exercise 3-4. Add a print statement at the end of your program stating the name of the guest who can’t make it.\n",
        "*   Modify your list, replacing the name of the guest who can’t make it with the name of the new person you are inviting.\n",
        "*   Print a second set of invitation messages, one for each person who is still in your list."
      ]
    },
    {
      "metadata": {
        "id": "pv9TprSdK9DU",
        "colab_type": "code",
        "colab": {
          "base_uri": "https://localhost:8080/",
          "height": 170
        },
        "outputId": "d8dea187-5b6d-415d-90fb-1eded136845d"
      },
      "cell_type": "code",
      "source": [
        "#Guest List\n",
        "guests = ['Siraj','Dendi','Elon']\n",
        "\n",
        "#Inviting all guests\n",
        "print(\"Hi \"+ guests[0] + \", I am having a dinner party and you are invited!\")\n",
        "print(\"Hi \"+ guests[1] + \", I am having a dinner party and you are invited!\")\n",
        "print(\"Hi \"+ guests[2] + \", I am having a dinner party and you are invited!\")\n",
        "\n",
        "#Guest who could make it\n",
        "print(\"\\nHi all, Unfortunately \" + guests[0] + \" wouldn't be able to attend the dinner party\")\n",
        "\n",
        "#Modifying guest list\n",
        "guests[0] = 'John'\n",
        "\n",
        "#Re-inviting all the guests\n",
        "print(\"\\nHi \"+ guests[0] + \", I am having a dinner party and you are invited!\")\n",
        "print(\"Hi \"+ guests[1] + \", I am having a dinner party and you are invited!\")\n",
        "print(\"Hi \"+ guests[2] + \", I am having a dinner party and you are invited!\")\n"
      ],
      "execution_count": 5,
      "outputs": [
        {
          "output_type": "stream",
          "text": [
            "Hi Siraj, I am having a dinner party and you are invited!\n",
            "Hi Dendi, I am having a dinner party and you are invited!\n",
            "Hi Elon, I am having a dinner party and you are invited!\n",
            "\n",
            "Hi all, Unfortunately Siraj wouldn't be able to attend the dinner party\n",
            "\n",
            "Hi John, I am having a dinner party and you are invited!\n",
            "Hi Dendi, I am having a dinner party and you are invited!\n",
            "Hi Elon, I am having a dinner party and you are invited!\n"
          ],
          "name": "stdout"
        }
      ]
    },
    {
      "metadata": {
        "id": "DMsQjW_iMNWU",
        "colab_type": "text"
      },
      "cell_type": "markdown",
      "source": [
        "#### 3-6. More Guests: \n",
        "You just found a bigger dinner table, so now more space is available. Think of three more guests to invite to dinner.\n",
        "*   Start with your program from Exercise 3-4 or Exercise 3-5. Add a print statement to the end of your program informing people that you found a bigger dinner table.\n",
        "*   Use insert() to add one new guest to the beginning of your list.\n",
        "*   Use insert() to add one new guest to the middle of your list.\n",
        "*   Use append() to add one new guest to the end of your list.\n",
        "*   Print a new set of invitation messages, one for each person in your list."
      ]
    },
    {
      "metadata": {
        "id": "jw3PuYazMkxT",
        "colab_type": "code",
        "colab": {
          "base_uri": "https://localhost:8080/",
          "height": 204
        },
        "outputId": "ecee91a3-05ad-4093-fd36-ef2702420106"
      },
      "cell_type": "code",
      "source": [
        "#Guest List\n",
        "guests = ['Siraj','Dendi','Elon']\n",
        "\n",
        "#Inviting all guests\n",
        "print(\"Hi \"+ guests[0] + \", I am having a dinner party and you are invited!\")\n",
        "print(\"Hi \"+ guests[1] + \", I am having a dinner party and you are invited!\")\n",
        "print(\"Hi \"+ guests[2] + \", I am having a dinner party and you are invited!\")\n",
        "\n",
        "#Bigger Table!\n",
        "print(\"\\nHey everyone, we got a bigger table now!\")\n",
        "\n",
        "#Adding guest to beginning of your list\n",
        "guests.insert(0, 'Dexter')\n",
        "\n",
        "#Adding guest to middle of my list\n",
        "guests.insert(int(len(guests)/2), 'Jack')\n",
        "\n",
        "#Adding guest to end of my list\n",
        "guests.append('Ash')\n",
        "\n",
        "#New set of Invitation messages\n",
        "print(\"Hi \"+ guests[0] + \", I am having a dinner party and you are invited!\")\n",
        "print(\"Hi \"+ guests[1] + \", I am having a dinner party and you are invited!\")\n",
        "print(\"Hi \"+ guests[2] + \", I am having a dinner party and you are invited!\")\n",
        "print(\"Hi \"+ guests[3] + \", I am having a dinner party and you are invited!\")\n",
        "print(\"Hi \"+ guests[4] + \", I am having a dinner party and you are invited!\")\n",
        "print(\"Hi \"+ guests[5] + \", I am having a dinner party and you are invited!\")"
      ],
      "execution_count": 6,
      "outputs": [
        {
          "output_type": "stream",
          "text": [
            "Hi Siraj, I am having a dinner party and you are invited!\n",
            "Hi Dendi, I am having a dinner party and you are invited!\n",
            "Hi Elon, I am having a dinner party and you are invited!\n",
            "\n",
            "Hey everyone, we got a bigger table now!\n",
            "Hi Dexter, I am having a dinner party and you are invited!\n",
            "Hi Siraj, I am having a dinner party and you are invited!\n",
            "Hi Jack, I am having a dinner party and you are invited!\n",
            "Hi Dendi, I am having a dinner party and you are invited!\n",
            "Hi Elon, I am having a dinner party and you are invited!\n",
            "Hi Ash, I am having a dinner party and you are invited!\n"
          ],
          "name": "stdout"
        }
      ]
    },
    {
      "metadata": {
        "id": "WEq8Z7cUMozr",
        "colab_type": "text"
      },
      "cell_type": "markdown",
      "source": [
        "#### 3-7. Shrinking Guest List: \n",
        "You just found out that your new dinner table won’t arrive in time for the dinner, and you have space for only two guests.\n",
        "*   Start with your program from Exercise 3-6. Add a new line that prints a message saying that you can invite only two people for dinner.\n",
        "*   Use pop() to remove guests from your list one at a time until only two names remain in your list. Each time you pop a name from your list, print a message to that person letting them know you’re sorry you can’t invite them to dinner.\n",
        "*   Print a message to each of the two people still on your list, letting them know they’re still invited.\n",
        "*   Use del to remove the last two names from your list, so you have an empty list. Print your list to make sure you actually have an empty list at the end of your program."
      ]
    },
    {
      "metadata": {
        "id": "BNS1gklZM17t",
        "colab_type": "code",
        "colab": {
          "base_uri": "https://localhost:8080/",
          "height": 187
        },
        "outputId": "a553ef28-9c38-4aba-d52c-d5ce5f516f77"
      },
      "cell_type": "code",
      "source": [
        "#Guest List\n",
        "guests = ['Siraj','Dendi','Elon']\n",
        "\n",
        "#Bigger Table!\n",
        "print(\"\\nHey everyone, we got a bigger table now!\")\n",
        "\n",
        "#Adding guest to beginning of your list\n",
        "guests.insert(0, 'Dexter')\n",
        "\n",
        "#Adding guest to middle of my list\n",
        "guests.insert(int(len(guests)/2), 'Jack')\n",
        "\n",
        "#Adding guest to end of my list\n",
        "guests.append('Ash')\n",
        "\n",
        "#Small Table\n",
        "print(\"\\nOops, we can only invite two guests now!\")\n",
        "\n",
        "#Removing guests until 2 remains\n",
        "print(\"Hi \" + guests.pop() + \", Sorry to inform you but we weren't able to secure a seat for you at the dinner table.\")\n",
        "print(\"Hi \" + guests.pop() + \", Sorry to inform you but we weren't able to secure a seat for you at the dinner table.\")\n",
        "print(\"Hi \" + guests.pop() + \", Sorry to inform you but we weren't able to secure a seat for you at the dinner table.\")\n",
        "print(\"Hi \" + guests.pop() + \", Sorry to inform you but we weren't able to secure a seat for you at the dinner table.\")\n",
        "\n",
        "#Inviting remaining guests\n",
        "print(\"Hi \"+ guests[0] + \", I am having a dinner party and you are invited!\")\n",
        "print(\"Hi \"+ guests[1] + \", I am having a dinner party and you are invited!\")"
      ],
      "execution_count": 7,
      "outputs": [
        {
          "output_type": "stream",
          "text": [
            "\n",
            "Hey everyone, we got a bigger table now!\n",
            "\n",
            "Oops, we can only invite two guests now!\n",
            "Hi Ash, Sorry to inform you but we weren't able to secure a seat for you at the dinner table.\n",
            "Hi Elon, Sorry to inform you but we weren't able to secure a seat for you at the dinner table.\n",
            "Hi Dendi, Sorry to inform you but we weren't able to secure a seat for you at the dinner table.\n",
            "Hi Jack, Sorry to inform you but we weren't able to secure a seat for you at the dinner table.\n",
            "Hi Dexter, I am having a dinner party and you are invited!\n",
            "Hi Siraj, I am having a dinner party and you are invited!\n"
          ],
          "name": "stdout"
        }
      ]
    },
    {
      "metadata": {
        "id": "HXFyKd-bM2Ik",
        "colab_type": "text"
      },
      "cell_type": "markdown",
      "source": [
        "#### 3-8. Seeing the World: \n",
        "Think of at least five places in the world you’d like to\n",
        "visit.\n",
        "*   Store the locations in a list. Make sure the list is not in alphabetical order.\n",
        "*   Print your list in its original order. Don’t worry about printing the list neatly, just print it as a raw Python list.\n",
        "*   Use sorted() to print your list in alphabetical order without modifying the actual list.\n",
        "*   Show that your list is still in its original order by printing it.\n",
        "*   Use sorted() to print your list in reverse alphabetical order without changing the order of the original list.\n",
        "*   Show that your list is still in its original order by printing it again.\n",
        "*   Use reverse() to change the order of your list. Print the list to show that its order has changed.\n",
        "*   Use reverse() to change the order of your list again. Print the list to show it’s back to its original order.\n",
        "*   Use sort() to change your list so it’s stored in alphabetical order. Print the list to show that its order has been changed.\n",
        "*   Use sort() to change your list so it’s stored in reverse alphabetical order. Print the list to show that its order has changed."
      ]
    },
    {
      "metadata": {
        "id": "FVPQ6FwfNFHi",
        "colab_type": "code",
        "colab": {
          "base_uri": "https://localhost:8080/",
          "height": 340
        },
        "outputId": "4c4a17f5-f914-468c-a016-f40660e0f4ad"
      },
      "cell_type": "code",
      "source": [
        "#List of locations\n",
        "travel_list = ['The Great Barrier Reef','Pyramids of Giza','The Maldives','Bali','Grand Canyon']\n",
        "print(travel_list)\n",
        "\n",
        "#sorted\n",
        "print(\"\\nSorted List: \")\n",
        "print(sorted(travel_list))\n",
        "print(\"\\nOriginal List: \")\n",
        "print(travel_list)\n",
        "\n",
        "#reverse\n",
        "print(\"\\nReversed List: \")\n",
        "travel_list.reverse()\n",
        "print(travel_list)\n",
        "print(\"\\nOriginal List: \")\n",
        "travel_list.reverse()\n",
        "print(travel_list)\n",
        "\n",
        "#sort\n",
        "print(\"\\nSorted List: \")\n",
        "travel_list.sort()\n",
        "print(travel_list)\n",
        "print(\"\\nReverse sorted List: \")\n",
        "travel_list.sort(reverse=True)\n",
        "print(travel_list)\n"
      ],
      "execution_count": 8,
      "outputs": [
        {
          "output_type": "stream",
          "text": [
            "['The Great Barrier Reef', 'Pyramids of Giza', 'The Maldives', 'Bali', 'Grand Canyon']\n",
            "\n",
            "Sorted List: \n",
            "['Bali', 'Grand Canyon', 'Pyramids of Giza', 'The Great Barrier Reef', 'The Maldives']\n",
            "\n",
            "Original List: \n",
            "['The Great Barrier Reef', 'Pyramids of Giza', 'The Maldives', 'Bali', 'Grand Canyon']\n",
            "\n",
            "Reversed List: \n",
            "['Grand Canyon', 'Bali', 'The Maldives', 'Pyramids of Giza', 'The Great Barrier Reef']\n",
            "\n",
            "Original List: \n",
            "['The Great Barrier Reef', 'Pyramids of Giza', 'The Maldives', 'Bali', 'Grand Canyon']\n",
            "\n",
            "Sorted List: \n",
            "['Bali', 'Grand Canyon', 'Pyramids of Giza', 'The Great Barrier Reef', 'The Maldives']\n",
            "\n",
            "Reverse sorted List: \n",
            "['The Maldives', 'The Great Barrier Reef', 'Pyramids of Giza', 'Grand Canyon', 'Bali']\n"
          ],
          "name": "stdout"
        }
      ]
    },
    {
      "metadata": {
        "id": "g4Edq--iNFQS",
        "colab_type": "text"
      },
      "cell_type": "markdown",
      "source": [
        "#### 3-9. Dinner Guests: \n",
        "Working with one of the programs from Exercises 3-4 through 3-7, use len() to print a message indicating the number of people you are inviting to dinner."
      ]
    },
    {
      "metadata": {
        "id": "q9bMkQJINOJr",
        "colab_type": "code",
        "colab": {
          "base_uri": "https://localhost:8080/",
          "height": 102
        },
        "outputId": "71f191fe-046f-4879-9e92-20e252229cdc"
      },
      "cell_type": "code",
      "source": [
        "guests = ['Siraj','Dendi','Elon']\n",
        "\n",
        "print(\"Hi \"+ guests[0] + \", I am having a dinner party and you are invited!\")\n",
        "print(\"Hi \"+ guests[1] + \", I am having a dinner party and you are invited!\")\n",
        "print(\"Hi \"+ guests[2] + \", I am having a dinner party and you are invited!\")\n",
        "\n",
        "print(\"\\nWe have invited a total of \" + str(len(guests)) + \" guests.\")"
      ],
      "execution_count": 9,
      "outputs": [
        {
          "output_type": "stream",
          "text": [
            "Hi Siraj, I am having a dinner party and you are invited!\n",
            "Hi Dendi, I am having a dinner party and you are invited!\n",
            "Hi Elon, I am having a dinner party and you are invited!\n",
            "\n",
            "We have invited a total of 3 guests.\n"
          ],
          "name": "stdout"
        }
      ]
    },
    {
      "metadata": {
        "id": "aVp5X-EgNOR6",
        "colab_type": "text"
      },
      "cell_type": "markdown",
      "source": [
        "#### 3-10. Every Function: \n",
        "Think of something you could store in a list. For example, you could make a list of mountains, rivers, countries, cities, languages, or anything else you’d like. Write a program that creates a list containing these items and then uses each function introduced in this chapter at least once."
      ]
    },
    {
      "metadata": {
        "id": "g6MkKzgvNUw2",
        "colab_type": "code",
        "colab": {
          "base_uri": "https://localhost:8080/",
          "height": 255
        },
        "outputId": "a6b96218-7f06-4915-885f-3b164bd8d59c"
      },
      "cell_type": "code",
      "source": [
        "#List of locations\n",
        "travel_list = ['The Great Barrier Reef','Pyramids of Giza','The Maldives','Bali','Grand Canyon']\n",
        "print(travel_list)\n",
        "\n",
        "#Accessing elements by index\n",
        "print(\"\\nThe first place I want to visit is \" + travel_list[0] + \".\")\n",
        "\n",
        "#Accessing elements from the end\n",
        "print(\"\\nThe last place I want to visit is \" + travel_list[-1] + \".\")\n",
        "\n",
        "#Adding elements\n",
        "##append()\n",
        "travel_list.append('Rome')\n",
        "##insert()\n",
        "travel_list.insert(1, 'The Door to Hell')\n",
        "\n",
        "#Removing elements\n",
        "##del\n",
        "print(travel_list)\n",
        "del travel_list[0]\n",
        "print(travel_list)\n",
        "##pop()\n",
        "print(travel_list)\n",
        "travel_list.pop(1)\n",
        "print(travel_list)\n",
        "##remove\n",
        "travel_list.remove('Rome')\n",
        "print(travel_list)\n",
        "\n",
        "#sorting\n",
        "print(sorted(travel_list))\n",
        "travel_list.sort()\n",
        "print(travel_list)\n",
        "travel_list.sort(reverse=True)\n",
        "print(travel_list)\n",
        "\n",
        "#length\n",
        "print(len(travel_list))"
      ],
      "execution_count": 10,
      "outputs": [
        {
          "output_type": "stream",
          "text": [
            "['The Great Barrier Reef', 'Pyramids of Giza', 'The Maldives', 'Bali', 'Grand Canyon']\n",
            "\n",
            "The first place I want to visit is The Great Barrier Reef.\n",
            "\n",
            "The last place I want to visit is Grand Canyon.\n",
            "['The Great Barrier Reef', 'The Door to Hell', 'Pyramids of Giza', 'The Maldives', 'Bali', 'Grand Canyon', 'Rome']\n",
            "['The Door to Hell', 'Pyramids of Giza', 'The Maldives', 'Bali', 'Grand Canyon', 'Rome']\n",
            "['The Door to Hell', 'Pyramids of Giza', 'The Maldives', 'Bali', 'Grand Canyon', 'Rome']\n",
            "['The Door to Hell', 'The Maldives', 'Bali', 'Grand Canyon', 'Rome']\n",
            "['The Door to Hell', 'The Maldives', 'Bali', 'Grand Canyon']\n",
            "['Bali', 'Grand Canyon', 'The Door to Hell', 'The Maldives']\n",
            "['Bali', 'Grand Canyon', 'The Door to Hell', 'The Maldives']\n",
            "['The Maldives', 'The Door to Hell', 'Grand Canyon', 'Bali']\n",
            "4\n"
          ],
          "name": "stdout"
        }
      ]
    },
    {
      "metadata": {
        "id": "Gx2SaBDyNXoF",
        "colab_type": "text"
      },
      "cell_type": "markdown",
      "source": [
        "#### 3-11. Intentional Error: \n",
        "If you haven’t received an index error in one of your programs yet, try to make one happen. Change an index in one of your programs to produce an index error. Make sure you correct the error before closing the program."
      ]
    },
    {
      "metadata": {
        "id": "5-dnGPrRNX7F",
        "colab_type": "code",
        "colab": {
          "base_uri": "https://localhost:8080/",
          "height": 214
        },
        "outputId": "5930ec18-12bd-4678-c238-121231d8f651"
      },
      "cell_type": "code",
      "source": [
        "#List of locations\n",
        "travel_list = ['The Great Barrier Reef','Pyramids of Giza','The Maldives','Bali','Grand Canyon']\n",
        "print(travel_list)\n",
        "\n",
        "#Accesing last element (error)\n",
        "print(travel_list[5])"
      ],
      "execution_count": 11,
      "outputs": [
        {
          "output_type": "stream",
          "text": [
            "['The Great Barrier Reef', 'Pyramids of Giza', 'The Maldives', 'Bali', 'Grand Canyon']\n"
          ],
          "name": "stdout"
        },
        {
          "output_type": "error",
          "ename": "IndexError",
          "evalue": "ignored",
          "traceback": [
            "\u001b[0;31m---------------------------------------------------------------------------\u001b[0m",
            "\u001b[0;31mIndexError\u001b[0m                                Traceback (most recent call last)",
            "\u001b[0;32m<ipython-input-11-0fa1b1a1fb96>\u001b[0m in \u001b[0;36m<module>\u001b[0;34m()\u001b[0m\n\u001b[1;32m      3\u001b[0m \u001b[0;34m\u001b[0m\u001b[0m\n\u001b[1;32m      4\u001b[0m \u001b[0;31m#Accesing last element (error)\u001b[0m\u001b[0;34m\u001b[0m\u001b[0;34m\u001b[0m\u001b[0;34m\u001b[0m\u001b[0m\n\u001b[0;32m----> 5\u001b[0;31m \u001b[0mprint\u001b[0m\u001b[0;34m(\u001b[0m\u001b[0mtravel_list\u001b[0m\u001b[0;34m[\u001b[0m\u001b[0;36m5\u001b[0m\u001b[0;34m]\u001b[0m\u001b[0;34m)\u001b[0m\u001b[0;34m\u001b[0m\u001b[0;34m\u001b[0m\u001b[0m\n\u001b[0m",
            "\u001b[0;31mIndexError\u001b[0m: list index out of range"
          ]
        }
      ]
    },
    {
      "metadata": {
        "id": "gGjyzRpCi9Ds",
        "colab_type": "code",
        "colab": {}
      },
      "cell_type": "code",
      "source": [
        "#List of locations\n",
        "travel_list = ['The Great Barrier Reef','Pyramids of Giza','The Maldives','Bali','Grand Canyon']\n",
        "print(travel_list)\n",
        "\n",
        "#Correcting error\n",
        "numLocations = len(travel_list)\n",
        "print(travel_list[numLocations-1])"
      ],
      "execution_count": 0,
      "outputs": []
    }
  ]
}