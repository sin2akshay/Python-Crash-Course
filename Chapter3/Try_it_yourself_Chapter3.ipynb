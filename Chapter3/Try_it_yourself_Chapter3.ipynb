{
  "nbformat": 4,
  "nbformat_minor": 0,
  "metadata": {
    "colab": {
      "name": "Untitled4.ipynb",
      "version": "0.3.2",
      "provenance": [],
      "include_colab_link": true
    },
    "kernelspec": {
      "name": "python3",
      "display_name": "Python 3"
    }
  },
  "cells": [
    {
      "cell_type": "markdown",
      "metadata": {
        "id": "view-in-github",
        "colab_type": "text"
      },
      "source": [
        "<a href=\"https://colab.research.google.com/github/sin2akshay/Python-Crash-Course/blob/master/Chapter3/Try_it_yourself_Chapter3.ipynb\" target=\"_parent\"><img src=\"https://colab.research.google.com/assets/colab-badge.svg\" alt=\"Open In Colab\"/></a>"
      ]
    },
    {
      "metadata": {
        "id": "FEy5jt2aG5k_",
        "colab_type": "text"
      },
      "cell_type": "markdown",
      "source": [
        "# Try It Yourself\n",
        "Try these short programs to get some firsthand experience with Python’s lists. You might want to create a new folder for each chapter’s exercises to keep them organized."
      ]
    },
    {
      "metadata": {
        "id": "JYIrKx60G_Y2",
        "colab_type": "text"
      },
      "cell_type": "markdown",
      "source": [
        "#### 3-1. Names:\n",
        "Store the names of a few of your friends in a list called names. Print each person’s name by accessing each element in the list, one at a time."
      ]
    },
    {
      "metadata": {
        "id": "Ych9CpdIG4wN",
        "colab_type": "code",
        "colab": {}
      },
      "cell_type": "code",
      "source": [
        "names = ['Amit', 'Shauvik', 'Apala']\n",
        "\n",
        "print(names[0])\n",
        "print(names[1])\n",
        "print(names[2])"
      ],
      "execution_count": 0,
      "outputs": []
    },
    {
      "metadata": {
        "id": "LGBCyf0MHgBo",
        "colab_type": "text"
      },
      "cell_type": "markdown",
      "source": [
        "#### 3-2. Greetings: \n",
        "Start with the list you used in Exercise 3-1, but instead of just printing each person’s name, print a message to them. The text of each message should be the same, but each message should be personalized with the person’s name."
      ]
    },
    {
      "metadata": {
        "id": "2gt-qIBUHsJP",
        "colab_type": "code",
        "colab": {}
      },
      "cell_type": "code",
      "source": [
        "names = ['Amit', 'Shauvik', 'Apala']\n",
        "\n",
        "print(\"Hey \" + names[0] + \", let's go to a party tonight!\")\n",
        "print(\"Hey \" + names[1] + \", let's go to a party tonight!\")\n",
        "print(\"Hey \" + names[2] + \", let's go to a party tonight!\")"
      ],
      "execution_count": 0,
      "outputs": []
    },
    {
      "metadata": {
        "id": "iV6GUvP6IVyF",
        "colab_type": "text"
      },
      "cell_type": "markdown",
      "source": [
        "#### 3-3. Your Own List: \n",
        "Think of your favorite mode of transportation, such as a motorcycle or a car, and make a list that stores several examples. Use your list to print a series of statements about these items, such as “I would like to own a Honda motorcycle.”"
      ]
    },
    {
      "metadata": {
        "id": "n64E_sFBIcse",
        "colab_type": "code",
        "colab": {}
      },
      "cell_type": "code",
      "source": [
        "cars = ['Audi', 'BMW', 'Honda']\n",
        "\n",
        "print(\"I would like to own an \" + cars[0] + \" car.\")\n",
        "print(\"I would like to own a \" + cars[1])\n",
        "print(\"I would like to drive a \" + cars[2] + \" motorcycle.\")"
      ],
      "execution_count": 0,
      "outputs": []
    },
    {
      "metadata": {
        "id": "aK8r_k3EJReF",
        "colab_type": "text"
      },
      "cell_type": "markdown",
      "source": [
        "\n",
        "\n",
        "---\n",
        "\n",
        "\n",
        "***The following exercises are a bit more complex than those in Chapter 2, but they give you an opportunity to use lists in all of the ways described.***\n",
        "\n",
        "\n",
        "---\n",
        "\n"
      ]
    },
    {
      "metadata": {
        "id": "rU1ddh6mJZ3y",
        "colab_type": "text"
      },
      "cell_type": "markdown",
      "source": [
        "#### 3-4. Guest List: \n",
        "If you could invite anyone, living or deceased, to dinner, who would you invite? Make a list that includes at least three people you’d like to invite to dinner. Then use your list to print a message to each person, inviting them to dinner."
      ]
    },
    {
      "metadata": {
        "id": "Ti8-Zjt-JlRK",
        "colab_type": "code",
        "colab": {}
      },
      "cell_type": "code",
      "source": [
        "guests = ['Siraj','Dendi','Elon']\n",
        "\n",
        "print(\"Hi \"+ guests[0] + \", I am having a dinner party and you are invited!\")\n",
        "print(\"Hi \"+ guests[1] + \", I am having a dinner party and you are invited!\")\n",
        "print(\"Hi \"+ guests[2] + \", I am having a dinner party and you are invited!\")"
      ],
      "execution_count": 0,
      "outputs": []
    },
    {
      "metadata": {
        "id": "8chDnRJIKrQD",
        "colab_type": "text"
      },
      "cell_type": "markdown",
      "source": [
        "#### 3-5. Changing Guest List: \n",
        "You just heard that one of your guests can’t make the dinner, so you need to send out a new set of invitations. You’ll have to think of someone else to invite.\n",
        "*   Start with your program from Exercise 3-4. Add a print statement at the end of your program stating the name of the guest who can’t make it.\n",
        "*   Modify your list, replacing the name of the guest who can’t make it with the name of the new person you are inviting.\n",
        "*   Print a second set of invitation messages, one for each person who is still in your list."
      ]
    },
    {
      "metadata": {
        "id": "pv9TprSdK9DU",
        "colab_type": "code",
        "colab": {}
      },
      "cell_type": "code",
      "source": [
        "#Guest List\n",
        "guests = ['Siraj','Dendi','Elon']\n",
        "\n",
        "#Inviting all guests\n",
        "print(\"Hi \"+ guests[0] + \", I am having a dinner party and you are invited!\")\n",
        "print(\"Hi \"+ guests[1] + \", I am having a dinner party and you are invited!\")\n",
        "print(\"Hi \"+ guests[2] + \", I am having a dinner party and you are invited!\")\n",
        "\n",
        "#Guest who could make it\n",
        "print(\"Hi all, Unfortunately \" + guests[0] + \" wouldn't be able to attend the dinner party\")\n",
        "\n",
        "#Modifying guest list\n",
        "guests[0] = 'John'\n",
        "\n",
        "#Re-inviting all the guests\n",
        "print(\"Hi \"+ guests[0] + \", I am having a dinner party and you are invited!\")\n",
        "print(\"Hi \"+ guests[1] + \", I am having a dinner party and you are invited!\")\n",
        "print(\"Hi \"+ guests[2] + \", I am having a dinner party and you are invited!\")\n"
      ],
      "execution_count": 0,
      "outputs": []
    },
    {
      "metadata": {
        "id": "DMsQjW_iMNWU",
        "colab_type": "text"
      },
      "cell_type": "markdown",
      "source": [
        "#### 3-6. More Guests: \n",
        "You just found a bigger dinner table, so now more space is available. Think of three more guests to invite to dinner.\n",
        "*   Start with your program from Exercise 3-4 or Exercise 3-5. Add a print statement to the end of your program informing people that you found a bigger dinner table.\n",
        "*   Use insert() to add one new guest to the beginning of your list.\n",
        "*   Use insert() to add one new guest to the middle of your list.\n",
        "*   Use append() to add one new guest to the end of your list.\n",
        "*   Print a new set of invitation messages, one for each person in your list."
      ]
    },
    {
      "metadata": {
        "id": "jw3PuYazMkxT",
        "colab_type": "code",
        "colab": {}
      },
      "cell_type": "code",
      "source": [
        "#Guest List\n",
        "guests = ['Siraj','Dendi','Elon']\n",
        "\n",
        "#Inviting all guests\n",
        "print(\"Hi \"+ guests[0] + \", I am having a dinner party and you are invited!\")\n",
        "print(\"Hi \"+ guests[1] + \", I am having a dinner party and you are invited!\")\n",
        "print(\"Hi \"+ guests[2] + \", I am having a dinner party and you are invited!\")"
      ],
      "execution_count": 0,
      "outputs": []
    },
    {
      "metadata": {
        "id": "WEq8Z7cUMozr",
        "colab_type": "text"
      },
      "cell_type": "markdown",
      "source": [
        "#### 3-7. Shrinking Guest List: \n",
        "You just found out that your new dinner table won’t arrive in time for the dinner, and you have space for only two guests.\n",
        "*   Start with your program from Exercise 3-6. Add a new line that prints a message saying that you can invite only two people for dinner.\n",
        "*   Use pop() to remove guests from your list one at a time until only two names remain in your list. Each time you pop a name from your list, print a message to that person letting them know you’re sorry you can’t invite them to dinner.\n",
        "*   Print a message to each of the two people still on your list, letting them know they’re still invited.\n",
        "*   Use del to remove the last two names from your list, so you have an empty list. Print your list to make sure you actually have an empty list at the end of your program."
      ]
    },
    {
      "metadata": {
        "id": "BNS1gklZM17t",
        "colab_type": "code",
        "colab": {}
      },
      "cell_type": "code",
      "source": [
        ""
      ],
      "execution_count": 0,
      "outputs": []
    },
    {
      "metadata": {
        "id": "HXFyKd-bM2Ik",
        "colab_type": "text"
      },
      "cell_type": "markdown",
      "source": [
        "#### 3-8. Seeing the World: \n",
        "Think of at least five places in the world you’d like to\n",
        "visit.\n",
        "*   Store the locations in a list. Make sure the list is not in alphabetical order.\n",
        "*   Print your list in its original order. Don’t worry about printing the list neatly, just print it as a raw Python list.\n",
        "*   Use sorted() to print your list in alphabetical order without modifying the actual list.\n",
        "*   Show that your list is still in its original order by printing it.\n",
        "*   Use sorted() to print your list in reverse alphabetical order without changing the order of the original list.\n",
        "*   Show that your list is still in its original order by printing it again.\n",
        "*   Use reverse() to change the order of your list. Print the list to show that its order has changed.\n",
        "*   Use reverse() to change the order of your list again. Print the list to show it’s back to its original order.\n",
        "*   Use sort() to change your list so it’s stored in alphabetical order. Print the list to show that its order has been changed.\n",
        "*   Use sort() to change your list so it’s stored in reverse alphabetical order. Print the list to show that its order has changed."
      ]
    },
    {
      "metadata": {
        "id": "FVPQ6FwfNFHi",
        "colab_type": "code",
        "colab": {}
      },
      "cell_type": "code",
      "source": [
        ""
      ],
      "execution_count": 0,
      "outputs": []
    },
    {
      "metadata": {
        "id": "g4Edq--iNFQS",
        "colab_type": "text"
      },
      "cell_type": "markdown",
      "source": [
        "#### 3-9. Dinner Guests: \n",
        "Working with one of the programs from Exercises 3-4 through 3-7, use len() to print a message indicating the number of people you are inviting to dinner."
      ]
    },
    {
      "metadata": {
        "id": "q9bMkQJINOJr",
        "colab_type": "code",
        "colab": {}
      },
      "cell_type": "code",
      "source": [
        ""
      ],
      "execution_count": 0,
      "outputs": []
    },
    {
      "metadata": {
        "id": "aVp5X-EgNOR6",
        "colab_type": "text"
      },
      "cell_type": "markdown",
      "source": [
        "#### 3-10. Every Function: \n",
        "Think of something you could store in a list. For example, you could make a list of mountains, rivers, countries, cities, languages, or anything else you’d like. Write a program that creates a list containing these items and then uses each function introduced in this chapter at least once."
      ]
    },
    {
      "metadata": {
        "id": "g6MkKzgvNUw2",
        "colab_type": "code",
        "colab": {}
      },
      "cell_type": "code",
      "source": [
        ""
      ],
      "execution_count": 0,
      "outputs": []
    },
    {
      "metadata": {
        "id": "Gx2SaBDyNXoF",
        "colab_type": "text"
      },
      "cell_type": "markdown",
      "source": [
        "#### 3-11. Intentional Error: \n",
        "If you haven’t received an index error in one of your programs yet, try to make one happen. Change an index in one of your programs to produce an index error. Make sure you correct the error before closing the program."
      ]
    },
    {
      "metadata": {
        "id": "5-dnGPrRNX7F",
        "colab_type": "code",
        "colab": {}
      },
      "cell_type": "code",
      "source": [
        ""
      ],
      "execution_count": 0,
      "outputs": []
    }
  ]
}