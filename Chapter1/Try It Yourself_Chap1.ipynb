{
  "nbformat": 4,
  "nbformat_minor": 0,
  "metadata": {
    "colab": {
      "name": "Untitled1.ipynb",
      "version": "0.3.2",
      "provenance": [],
      "include_colab_link": true
    },
    "kernelspec": {
      "name": "python3",
      "display_name": "Python 3"
    }
  },
  "cells": [
    {
      "cell_type": "markdown",
      "metadata": {
        "id": "view-in-github",
        "colab_type": "text"
      },
      "source": [
        "<a href=\"https://colab.research.google.com/github/sin2akshay/Python-Crash-Course/blob/master/Chapter1/Try%20It%20Yourself_Chap1.ipynb\" target=\"_parent\"><img src=\"https://colab.research.google.com/assets/colab-badge.svg\" alt=\"Open In Colab\"/></a>"
      ]
    },
    {
      "metadata": {
        "id": "ioJtAWBBX7PA",
        "colab_type": "text"
      },
      "cell_type": "markdown",
      "source": [
        "# Try It Yourself\n",
        "The exercises in this chapter are exploratory in nature. Starting in Chapter 2,\n",
        "the challenges you’ll solve will be based on what you’ve learned.\n"
      ]
    },
    {
      "metadata": {
        "id": "vl_irqEpX7Z4",
        "colab_type": "text"
      },
      "cell_type": "markdown",
      "source": [
        "#### 1-1. python.org: Explore the Python home page (http://python.org/) to find topics that interest you. As you become familiar with Python, different parts of the site will be more useful to you.  \n",
        "\n",
        "I checked out the site and found out there are tutorials there which are very well formatted. Also, one can join other Python beginners/expert in the community via various channels mentioned there.\n",
        "\n",
        "\n",
        "*   Tutorial - [https://docs.python.org/3/tutorial/index.html](https://docs.python.org/3/tutorial/index.html)\n",
        "*   Python Communities - [https://www.python.org/community/](https://www.python.org/community/)\n",
        "\n",
        "\n",
        "  \n",
        "\n"
      ]
    },
    {
      "metadata": {
        "id": "jj2Q_eYhYK-g",
        "colab_type": "text"
      },
      "cell_type": "markdown",
      "source": [
        "#### 1-2. Hello World Typos: Open the hello_world.py file you just created. Make a typo somewhere in the line and run the program again. Can you make a typo that generates an error? Can you make sense of the error message? Can you make a typo that doesn’t generate an error? Why do you think it didn’t make an error?\n"
      ]
    },
    {
      "metadata": {
        "id": "h9uLT0TR-UDo",
        "colab_type": "code",
        "colab": {
          "base_uri": "https://localhost:8080/",
          "height": 35
        },
        "outputId": "99a6d5ce-54e7-4096-826a-7e47ce33ad53"
      },
      "cell_type": "code",
      "source": [
        "#Original Code\n",
        "print(\"Hello Python world!\")"
      ],
      "execution_count": 1,
      "outputs": [
        {
          "output_type": "stream",
          "text": [
            "Hello Python world!\n"
          ],
          "name": "stdout"
        }
      ]
    },
    {
      "metadata": {
        "id": "PJz-APwYAHBv",
        "colab_type": "code",
        "colab": {
          "base_uri": "https://localhost:8080/",
          "height": 135
        },
        "outputId": "57a06887-f25d-4270-8985-cd264670df1a"
      },
      "cell_type": "code",
      "source": [
        "#Code with typo that generates an error\n",
        "print \"Hello Python world!\"\n",
        "\n",
        "#We can see that the error message tells that it is an syntax error and the line where it is occuring"
      ],
      "execution_count": 3,
      "outputs": [
        {
          "output_type": "error",
          "ename": "SyntaxError",
          "evalue": "ignored",
          "traceback": [
            "\u001b[0;36m  File \u001b[0;32m\"<ipython-input-3-4376ce07659d>\"\u001b[0;36m, line \u001b[0;32m1\u001b[0m\n\u001b[0;31m    print \"Hello Python world!\"\u001b[0m\n\u001b[0m                              ^\u001b[0m\n\u001b[0;31mSyntaxError\u001b[0m\u001b[0;31m:\u001b[0m Missing parentheses in call to 'print'. Did you mean print(\"Hello Python world!\")?\n"
          ]
        }
      ]
    },
    {
      "metadata": {
        "id": "Be-hfVB1_CTP",
        "colab_type": "code",
        "colab": {
          "base_uri": "https://localhost:8080/",
          "height": 35
        },
        "outputId": "9ec82b04-2dbc-47c4-b51c-9f9aa6cc3cc8"
      },
      "cell_type": "code",
      "source": [
        "#Code with a typo that doesn't generates an error\n",
        "print ('Hello Python world!')\n",
        "\n",
        "#You can see that we used only single quotes instead of double quotes which is \n",
        "#acceptable in Python as long as the line itself doesn't contains any unescaped \n",
        "#quotes inside it."
      ],
      "execution_count": 4,
      "outputs": [
        {
          "output_type": "stream",
          "text": [
            "Hello Python world!\n"
          ],
          "name": "stdout"
        }
      ]
    },
    {
      "metadata": {
        "id": "cb0rUt82bt9I",
        "colab_type": "text"
      },
      "cell_type": "markdown",
      "source": [
        "#### 1-3. Infinite Skills: If you had infinite programming skills, what would you build? You’re about to learn how to program. If you have an end goal in mind, you’ll have an immediate use for your new skills; now is a great time to draft descriptions of what you’d like to create. It’s a good habit to keep an “ideas” notebook that you can refer to whenever you want to start a new project. Take a few minutes now to describe three programs you’d like to create.\n",
        "\n",
        "If we are going as far as calling to have infinite programming skills, I would definitely create the world's first [mecha](https://en.wikipedia.org/wiki/Mecha).  :P  \n",
        "Other than that, I am thinking of working on the following 3 projects:\n",
        "\n",
        "\n",
        "*   A Flight Alert Web app that send SMS when price drops or escalates above a certain threshold\n",
        "*   Create a CLI/Windows App using Python that can download subtitles from Youtube Videos or even generate them if it's not auto-generated by Youtube\n",
        "*   Again using the Youtube API to collect data on a playlist and display some analytics in a graph through a web app like how long per video. Total playlist time and so\n",
        "\n"
      ]
    }
  ]
}