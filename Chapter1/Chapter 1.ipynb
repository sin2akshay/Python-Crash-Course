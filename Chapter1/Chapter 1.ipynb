{
  "nbformat": 4,
  "nbformat_minor": 0,
  "metadata": {
    "colab": {
      "name": "Untitled0.ipynb",
      "version": "0.3.2",
      "provenance": [],
      "include_colab_link": true
    },
    "kernelspec": {
      "name": "python3",
      "display_name": "Python 3"
    }
  },
  "cells": [
    {
      "cell_type": "markdown",
      "metadata": {
        "id": "view-in-github",
        "colab_type": "text"
      },
      "source": [
        "<a href=\"https://colab.research.google.com/github/sin2akshay/Python-Crash-Course/blob/master/Chapter1/Chapter%201.ipynb\" target=\"_parent\"><img src=\"https://colab.research.google.com/assets/colab-badge.svg\" alt=\"Open In Colab\"/></a>"
      ]
    },
    {
      "metadata": {
        "id": "aM8CCkRRRiq3",
        "colab_type": "text"
      },
      "cell_type": "markdown",
      "source": [
        "# Chapter 1 - Getting Started"
      ]
    },
    {
      "metadata": {
        "id": "N3iH-NofR_Xj",
        "colab_type": "text"
      },
      "cell_type": "markdown",
      "source": [
        "## Setting Up Your Programming Environment\n",
        "\n",
        "We will use Windows here.\n",
        "  "
      ]
    },
    {
      "metadata": {
        "id": "choCyz8-VH5t",
        "colab_type": "text"
      },
      "cell_type": "markdown",
      "source": [
        "### Checking existing Installation\n",
        "Open a command window by entering command into the Start menu or by holding down the shift key while right-clicking on your desktop and selecting Open command window here. In the terminal window, enter **`python`** in lowercase. If you get a Python prompt (**`>>>`**), Python is installed on your system.  \n",
        "  \n",
        "However, you’ll probably see an error message telling you that python is not a recognized command. In that case, download a Python installer for Windows. Go to [http://python.org/downloads/](http://python.org/downloads/) and download the latest Python3 version. After you’ve downloaded the file, run the installer. Make sure you check the option Add Python to PATH, which will make it easier to configure your system correctly.  \n",
        "\n",
        "![Installer](https://github.com/sin2akshay/Python-Crash-Course/raw/master/Chapter%201/data/Python%20Installer.png)  "
      ]
    },
    {
      "metadata": {
        "id": "jlYpCsp4VbKy",
        "colab_type": "text"
      },
      "cell_type": "markdown",
      "source": [
        " ### Running Python Programs from a Terminal\n",
        " \n",
        " #### Starting a Python Terminal Session\n",
        "Setting up your text editor will be straightforward if you first set up your system to run Python in a terminal session. Open a command window and enter python in lowercase. If you get a Python prompt (>>>), Windows has found the version of Python you just installed:\n",
        "\n",
        "\n",
        "---\n",
        "\n",
        "\n",
        "\n",
        "```\n",
        "C:\\> python\n",
        "Python 3.5.0 (v3.5.0:374f501f4567, Sep 13 2015, 22:15:05) [MSC v.1900 32 bit\n",
        "(Intel)] on win32\n",
        "Type \"help\", \"copyright\", \"credits\" or \"license\" for more information.\n",
        ">>>\n",
        "```\n",
        "\n",
        "\n",
        "\n",
        "---\n",
        "\n",
        "#### Running Python in a Terminal Session\n",
        "Enter the following line in your Python session, and make sure you see the output Hello Python world!\n",
        "\n",
        "\n",
        "---\n",
        "\n",
        "\n",
        "\n",
        "\n",
        "```\n",
        ">>> print(\"Hello Python world!\")\n",
        "Hello Python world!\n",
        ">>>\n",
        "```\n",
        "\n",
        "\n",
        "\n",
        "---\n",
        "\n",
        "\n",
        "Any time you want to run a snippet of Python code, open a command\n",
        "window and start a Python terminal session. To close the terminal session,\n",
        "press ctrl-Z and then press enter, or enter the command exit()."
      ]
    },
    {
      "metadata": {
        "id": "F3rkAd4B8St8",
        "colab_type": "text"
      },
      "cell_type": "markdown",
      "source": [
        "#### We will not go into more details here as mentioned in the book (it's a crash course duh!) on Python GUIs or editors as we would be running this on Jupyter notebooks via Google Collab."
      ]
    }
  ]
}