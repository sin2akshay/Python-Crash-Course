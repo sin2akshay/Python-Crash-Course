{
  "nbformat": 4,
  "nbformat_minor": 0,
  "metadata": {
    "colab": {
      "name": "Untitled6.ipynb",
      "version": "0.3.2",
      "provenance": [],
      "include_colab_link": true
    },
    "kernelspec": {
      "name": "python3",
      "display_name": "Python 3"
    }
  },
  "cells": [
    {
      "cell_type": "markdown",
      "metadata": {
        "id": "view-in-github",
        "colab_type": "text"
      },
      "source": [
        "<a href=\"https://colab.research.google.com/github/sin2akshay/Python-Crash-Course/blob/master/Chapter4/Chapter4_Try_it_Yourself.ipynb\" target=\"_parent\"><img src=\"https://colab.research.google.com/assets/colab-badge.svg\" alt=\"Open In Colab\"/></a>"
      ]
    },
    {
      "metadata": {
        "id": "6LLYS7w94soY",
        "colab_type": "text"
      },
      "cell_type": "markdown",
      "source": [
        "# TRY IT YOURSELF"
      ]
    },
    {
      "metadata": {
        "id": "_PLyVSNS40EW",
        "colab_type": "text"
      },
      "cell_type": "markdown",
      "source": [
        "#### 4-1. Pizzas: \n",
        "Think of at least three kinds of your favorite pizza. Store these pizza names in a list, and then use a for loop to print the name of each pizza.\n",
        "\n",
        "*   Modify your for loop to print a sentence using the name of the pizza instead of printing just the name of the pizza. For each pizza you should have one line of output containing a simple statement like I like pepperoni pizza.\n",
        "*   Add a line at the end of your program, outside the for loop, that states how much you like pizza. The output should consist of three or more lines about the kinds of pizza you like and then an additional sentence, such as I really love pizza!"
      ]
    },
    {
      "metadata": {
        "id": "6zsPg-ur5Bae",
        "colab_type": "code",
        "colab": {}
      },
      "cell_type": "code",
      "source": [
        "pizzas = ['Smokey Joe','BBQ Chicken','Chicken Keema']\n",
        "\n",
        "#Printing each pizza\n",
        "for pizza in pizzas:\n",
        "    print(pizza)\n",
        "\n",
        "#Printing each pizza in a sentence\n",
        "print(\"\\n\")    \n",
        "for pizza in pizzas:\n",
        "    print(\"I really love \"+ pizza + \" pizza!\")\n",
        "\n",
        "#Additional sentence outside the loop\n",
        "print(\"\\nI really love pizza!\")    "
      ],
      "execution_count": 0,
      "outputs": []
    },
    {
      "metadata": {
        "id": "5svjoUf15Bke",
        "colab_type": "text"
      },
      "cell_type": "markdown",
      "source": [
        "#### 4-2. Animals: \n",
        "Think of at least three different animals that have a common characteristic. Store the names of these animals in a list, and then use a for loop to print out the name of each animal.\n",
        "\n",
        "*   Modify your program to print a statement about each animal, such as A dog would make a great pet.\n",
        "*   Add a line at the end of your program stating what these animals have in common. You could print a sentence such as Any of these animals would make a great pet!"
      ]
    },
    {
      "metadata": {
        "id": "766Q4DaQ5Khe",
        "colab_type": "code",
        "colab": {}
      },
      "cell_type": "code",
      "source": [
        "animals = ['dog','cat','parrot']\n",
        "\n",
        "#Printing out each of the animals\n",
        "for animal in animals:\n",
        "    print(animal)\n",
        "\n",
        "#Printing out each animal in a sentence\n",
        "print(\"\\n\")\n",
        "for animal in animals:\n",
        "    print(\"A \" + animal + \" would make a great pet.\")\n",
        "    \n",
        "#Line outside loop\n",
        "print(\"Any of these animals would make a great pet.\")"
      ],
      "execution_count": 0,
      "outputs": []
    },
    {
      "metadata": {
        "id": "QwHFo1Uh5Lc9",
        "colab_type": "text"
      },
      "cell_type": "markdown",
      "source": [
        "#### 4-3. Counting to Twenty: \n",
        "Use a for loop to print the numbers from 1 to 20, inclusive."
      ]
    },
    {
      "metadata": {
        "id": "zYPKrE0b4Rss",
        "colab_type": "code",
        "colab": {}
      },
      "cell_type": "code",
      "source": [
        "for i in range(1,21):\n",
        "    print(i)"
      ],
      "execution_count": 0,
      "outputs": []
    },
    {
      "metadata": {
        "id": "pJKOzY7i8jCQ",
        "colab_type": "code",
        "colab": {}
      },
      "cell_type": "code",
      "source": [
        "#or using lists\n",
        "numbers = list(range(1,21))\n",
        "\n",
        "for number in numbers:\n",
        "    print(number)"
      ],
      "execution_count": 0,
      "outputs": []
    },
    {
      "metadata": {
        "id": "mBKsHBOl5dgl",
        "colab_type": "text"
      },
      "cell_type": "markdown",
      "source": [
        "#### 4-4. One Million: \n",
        "Make a list of the numbers from one to one million, and then use a for loop to print the numbers. (If the output is taking too long, stop it by pressing ctrl-C or by closing the output window."
      ]
    },
    {
      "metadata": {
        "id": "rHoLRBaM5hnN",
        "colab_type": "code",
        "colab": {}
      },
      "cell_type": "code",
      "source": [
        "#Using 1000 instead of 1000,000\n",
        "numbers = list(range(1,1001))\n",
        "\n",
        "for number in numbers:\n",
        "    print(number)"
      ],
      "execution_count": 0,
      "outputs": []
    },
    {
      "metadata": {
        "id": "fRd-4TSI5hw9",
        "colab_type": "text"
      },
      "cell_type": "markdown",
      "source": [
        "#### 4-5. Summing a Million: \n",
        "Make a list of the numbers from one to one million, and then use min() and max() to make sure your list actually starts at one and ends at one million. Also, use the sum() function to see how quickly Python can add a million numbers."
      ]
    },
    {
      "metadata": {
        "id": "0mNJFDd_5m7e",
        "colab_type": "code",
        "colab": {}
      },
      "cell_type": "code",
      "source": [
        "#Using 1000 instead of 1000,000\n",
        "numbers = list(range(1,1001))\n",
        "\n",
        "print(\"Smallest Digit\")\n",
        "print(min(numbers))\n",
        "\n",
        "print(\"\\nLargest Digit\")\n",
        "print(max(numbers))\n",
        "\n",
        "print(\"\\nSum of Digits\")\n",
        "print(sum(numbers))"
      ],
      "execution_count": 0,
      "outputs": []
    },
    {
      "metadata": {
        "id": "qW1BlBn85nCm",
        "colab_type": "text"
      },
      "cell_type": "markdown",
      "source": [
        "#### 4-6. Odd Numbers: \n",
        "Use the third argument of the range() function to make a list of the odd numbers from 1 to 20. Use a for loop to print each number."
      ]
    },
    {
      "metadata": {
        "id": "xpLVQNJV5pve",
        "colab_type": "code",
        "colab": {}
      },
      "cell_type": "code",
      "source": [
        "odd_numbers = list(range(1,21,2))\n",
        "\n",
        "for odds in odd_numbers:\n",
        "    print(odds)"
      ],
      "execution_count": 0,
      "outputs": []
    },
    {
      "metadata": {
        "id": "AYnj5MQl5p3u",
        "colab_type": "text"
      },
      "cell_type": "markdown",
      "source": [
        "#### 4-7. Threes: \n",
        "Make a list of the multiples of 3 from 3 to 30. Use a for loop to print the numbers in your list."
      ]
    },
    {
      "metadata": {
        "id": "n71q3KAQ5tom",
        "colab_type": "code",
        "colab": {}
      },
      "cell_type": "code",
      "source": [
        "multiples_three = list(range(3,31,3))\n",
        "\n",
        "for multiple_three in multiples_three:\n",
        "    print(multiple_three)"
      ],
      "execution_count": 0,
      "outputs": []
    },
    {
      "metadata": {
        "id": "BSLfDrz55tw-",
        "colab_type": "text"
      },
      "cell_type": "markdown",
      "source": [
        "#### 4-8. Cubes: \n",
        "A number raised to the third power is called a cube. For example, the cube of 2 is written as `2**3` in Python. Make a list of the first 10 cubes (that is, the cube of each integer from 1 through 10), and use a for loop to print out the value of each cube."
      ]
    },
    {
      "metadata": {
        "id": "xVsfw_8T5zF9",
        "colab_type": "code",
        "colab": {}
      },
      "cell_type": "code",
      "source": [
        "numbers = []\n",
        "\n",
        "for i in range(1,11):\n",
        "    numbers.append(i**3)\n",
        "    \n",
        "for number in numbers:\n",
        "    print(number)"
      ],
      "execution_count": 0,
      "outputs": []
    },
    {
      "metadata": {
        "id": "oBaOz1Oh5zOe",
        "colab_type": "text"
      },
      "cell_type": "markdown",
      "source": [
        "#### 4-9. Cube Comprehension: \n",
        "Use a list comprehension to generate a list of the first 10 cubes."
      ]
    },
    {
      "metadata": {
        "id": "EAkLYM0w55nm",
        "colab_type": "code",
        "colab": {}
      },
      "cell_type": "code",
      "source": [
        "cubes = [i**3 for i in range(1,11)]\n",
        "\n",
        "for number in numbers:\n",
        "    print(number)"
      ],
      "execution_count": 0,
      "outputs": []
    },
    {
      "metadata": {
        "id": "1Ph0nRQa55sV",
        "colab_type": "text"
      },
      "cell_type": "markdown",
      "source": [
        "#### 4-10. Slices: \n",
        "Using one of the programs you wrote in this chapter, add several lines to the end of the program that do the following:\n",
        "*   Print the message, The first three items in the list are:. Then use a slice to print the first three items from that program’s list.\n",
        "*   Print the message, Three items from the middle of the list are:. Use a slice to print three items from the middle of the list.\n",
        "*   Print the message, The last three items in the list are:. Use a slice to print the last three items in the list."
      ]
    },
    {
      "metadata": {
        "id": "zVdjvqE26Aye",
        "colab_type": "code",
        "colab": {}
      },
      "cell_type": "code",
      "source": [
        "players = ['charles', 'martina', 'michael', 'florence', 'eli']\n",
        "\n",
        "print(\"The first three items in the list are: \")\n",
        "for player in players[:3]:\n",
        "    print(player)\n",
        "    \n",
        "print(\"The middle three items in the list are: \")\n",
        "for player in players[1:4]:\n",
        "    print(player)\n",
        "    \n",
        "print(\"The last three items in the list are: \")\n",
        "for player in players[-3:]:\n",
        "    print(player)"
      ],
      "execution_count": 0,
      "outputs": []
    },
    {
      "metadata": {
        "id": "H6-_wtHN6A6u",
        "colab_type": "text"
      },
      "cell_type": "markdown",
      "source": [
        "#### 4-11. My Pizzas, Your Pizzas: \n",
        "Start with your program from Exercise 4-1. Make a copy of the list of pizzas, and call it friend_pizzas. Then, do the following:\n",
        "*   Add a new pizza to the original list.\n",
        "*   Add a different pizza to the list friend_pizzas.\n",
        "*   Prove that you have two separate lists. Print the message, My favorite pizzas are:, and then use a for loop to print the first list. Print the message, My friend’s favorite pizzas are:, and then use a for loop to print the second list. Make sure each new pizza is stored in the appropriate list."
      ]
    },
    {
      "metadata": {
        "id": "xKnbikw46JtN",
        "colab_type": "code",
        "colab": {}
      },
      "cell_type": "code",
      "source": [
        "pizzas = ['Smokey Joe','BBQ Chicken','Chicken Keema']\n",
        "\n",
        "#Making a copy\n",
        "friend_pizzas = pizzas[:]\n",
        "\n",
        "#New Pizza to original list\n",
        "pizzas.append('Farm Fresh')\n",
        "\n",
        "#New Pizza to Friend list\n",
        "friend_pizzas.append('Spicy Paneer')\n",
        "\n",
        "print(\"My favorite pizzas are: \")\n",
        "for pizza in pizzas:\n",
        "    print(pizza)\n",
        "    \n",
        "print(\"\\nMy friend's favorite pizzas are: \")\n",
        "for pizza in friend_pizzas:\n",
        "    print(pizza)"
      ],
      "execution_count": 0,
      "outputs": []
    },
    {
      "metadata": {
        "id": "EmoZ8Sew6LZN",
        "colab_type": "text"
      },
      "cell_type": "markdown",
      "source": [
        "#### 4-12. More Loops: \n",
        "All versions of foods programs in the section with lists have avoided using for loops when printing to save space. Choose any of the prorgam from that section, and write two for loops to print each list of foods."
      ]
    },
    {
      "metadata": {
        "id": "_i_KfarK6Np-",
        "colab_type": "code",
        "colab": {}
      },
      "cell_type": "code",
      "source": [
        "my_foods = ['pizza', 'falafel', 'carrot cake'] \n",
        "friend_foods = my_foods[:] \n",
        "\n",
        "my_foods.append('cannoli') \n",
        "friend_foods.append('ice cream') \n",
        "\n",
        "print(\"My favorite foods are: \")\n",
        "for food in my_foods:\n",
        "    print(food)\n",
        "    \n",
        "print(\"\\nMy friend's foods pizzas are: \")\n",
        "for food in friend_foods:\n",
        "    print(pizza)"
      ],
      "execution_count": 0,
      "outputs": []
    },
    {
      "metadata": {
        "id": "aBxBRPCU6NvO",
        "colab_type": "text"
      },
      "cell_type": "markdown",
      "source": [
        "#### 4-13. Buffet: \n",
        "A buffet-style restaurant offers only five basic foods. Think of five simple foods, and store them in a tuple.\n",
        "*   Use a for loop to print each food the restaurant offers.\n",
        "*   Try to modify one of the items, and make sure that Python rejects the change.\n",
        "*   The restaurant changes its menu, replacing two of the items with different foods. Add a block of code that rewrites the tuple, and then use a for loop to print each of the items on the revised menu."
      ]
    },
    {
      "metadata": {
        "id": "OLdBmdsA6Wlt",
        "colab_type": "code",
        "colab": {}
      },
      "cell_type": "code",
      "source": [
        "menu_items = (\n",
        "    'rockfish sandwich', 'halibut nuggets', 'smoked salmon chowder',\n",
        "    'salmon burger', 'crab cakes',\n",
        "    )\n",
        "\n",
        "print(\"You can choose from the following menu items:\")\n",
        "for item in menu_items:\n",
        "    print(\"- \" + item)"
      ],
      "execution_count": 0,
      "outputs": []
    },
    {
      "metadata": {
        "id": "WGJefkYNB8rD",
        "colab_type": "code",
        "colab": {}
      },
      "cell_type": "code",
      "source": [
        "#Trying to modify an item\n",
        "menu_items[0] = 'Chicken Chilli'"
      ],
      "execution_count": 0,
      "outputs": []
    },
    {
      "metadata": {
        "id": "57-BdQyMCQ6T",
        "colab_type": "code",
        "colab": {}
      },
      "cell_type": "code",
      "source": [
        "#Replacing two of the items\n",
        "menu_items = (\n",
        "    'rockfish sandwich', 'halibut nuggets', 'smoked salmon chowder',\n",
        "    'black cod tips', 'king crab legs',\n",
        "    )\n",
        "\n",
        "print(\"\\nOur menu has been updated.\")\n",
        "print(\"You can now choose from the following items:\")\n",
        "for item in menu_items:\n",
        "    print(\"- \" + item)"
      ],
      "execution_count": 0,
      "outputs": []
    }
  ]
}