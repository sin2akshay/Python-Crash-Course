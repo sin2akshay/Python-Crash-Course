{
  "nbformat": 4,
  "nbformat_minor": 0,
  "metadata": {
    "colab": {
      "name": "Untitled5.ipynb",
      "version": "0.3.2",
      "provenance": [],
      "include_colab_link": true
    },
    "kernelspec": {
      "name": "python3",
      "display_name": "Python 3"
    },
    "accelerator": "GPU"
  },
  "cells": [
    {
      "cell_type": "markdown",
      "metadata": {
        "id": "view-in-github",
        "colab_type": "text"
      },
      "source": [
        "<a href=\"https://colab.research.google.com/github/sin2akshay/Python-Crash-Course/blob/master/Chapter4/Chapter4%20-%20Working%20with%20Lists.ipynb\" target=\"_parent\"><img src=\"https://colab.research.google.com/assets/colab-badge.svg\" alt=\"Open In Colab\"/></a>"
      ]
    },
    {
      "metadata": {
        "id": "5CN5tD6K6f5U",
        "colab_type": "text"
      },
      "cell_type": "markdown",
      "source": [
        "# Chapter 4 - Working with Lists\n",
        "In Chapter 3 you learned how to make a simple list, and you learned to work with the individual elements in a list. In this chapter you’ll learn how to loop through an entire list using just a few lines of code regardless of how long the list is. Looping allows you to take the same action, or set of actions, with every item in a list. As a result, you’ll be able to work efficiently with lists of any length, including those with thousands or even millions of items."
      ]
    },
    {
      "metadata": {
        "id": "HcJ3idKXYBhi",
        "colab_type": "text"
      },
      "cell_type": "markdown",
      "source": [
        "## Looping Through an Entire List \n",
        "You’ll often want to run through all entries in a list, performing the same task with each item. For example, in a game you might want to move every element on the screen by the same amount, or in a list of numbers you might want to perform the same statistical operation on every element. Or perhaps you’ll want to display each headline from a list of articles on a website. When you want to do the same action with every item in a list, you can use Python’s for loop.\n",
        "\n",
        "Let’s use a for loop to print out each name in a list of magicians:"
      ]
    },
    {
      "metadata": {
        "id": "Y_JawX2pY80R",
        "colab_type": "code",
        "colab": {}
      },
      "cell_type": "code",
      "source": [
        "magicians = ['alice', 'david', 'carolina']\n",
        "\n",
        "#Looping through the list\n",
        "for magician in magicians:\n",
        "  print(magician)"
      ],
      "execution_count": 0,
      "outputs": []
    },
    {
      "metadata": {
        "id": "kUoRulYAY2nY",
        "colab_type": "text"
      },
      "cell_type": "markdown",
      "source": [
        "We begin by defining a list named magicians. Then we define a for loop. This line tells Python to pull a name from the list magicians, and store it in the variable magician. In the next line we tell Python to print the name that was just stored in magician. Python then repeats the line, once for each name in the list. It might help to read this code as “For every magician in the list of magicians, print the magician’s name.”"
      ]
    },
    {
      "metadata": {
        "id": "GXhATZh-Zg3R",
        "colab_type": "text"
      },
      "cell_type": "markdown",
      "source": [
        "Also keep in mind when writing your own for loops that you can choose any name you want for the temporary variable that holds each value in the list. However, it’s helpful to choose a meaningful name that represents a single item from the list. For example, here’s a good way to start a for loop for a list of cats, a list of dogs, and a general list of items:\n",
        "\n",
        "\n",
        "---\n",
        "\n",
        "\n",
        "\n",
        "```\n",
        "for cat in cats:\n",
        "for dog in dogs:\n",
        "for item in list_of_items:\n",
        "```\n",
        "\n",
        "\n",
        "\n",
        "---\n",
        "\n",
        "\n",
        "These naming conventions can help you follow the action being done on each item within a for loop. Using singular and plural names can help you identify whether a section of code is working with a single element from the list or the entire list."
      ]
    },
    {
      "metadata": {
        "id": "8VkrG5O2Z6Vh",
        "colab_type": "text"
      },
      "cell_type": "markdown",
      "source": [
        "You can also write as many lines of code as you like in the for loop. Eery indented line following the line for magician in magicians is considered inside the loop, and each indented line is executed once for each value in the list. Therefore, you can do as much work as you like with each value in the list."
      ]
    },
    {
      "metadata": {
        "id": "RHACvSBpkKzt",
        "colab_type": "code",
        "colab": {}
      },
      "cell_type": "code",
      "source": [
        "magicians = ['alice', 'david', 'carolina']\n",
        "\n",
        "for magician in magicians:\n",
        "  #Both the lines below will run for each of the items in the list\n",
        "  print(magician.title() + \", that was a great trick!\")\n",
        "  print(\"I can't wait to see your next trick, \" + magician.title() + \".\\n\")\n",
        "  \n",
        "#This line below will not be printed as part of the loop,\n",
        "#rather it would print only once after we exit from the loop\n",
        "print(\"Thank you, everyone. That was a great magic show!\")  "
      ],
      "execution_count": 0,
      "outputs": []
    },
    {
      "metadata": {
        "id": "509EjQIRaw-I",
        "colab_type": "text"
      },
      "cell_type": "markdown",
      "source": [
        "Any lines of code after the for loop that are not indented are executed once without repetition. As you can see, the first two print statements are repeated once for each magician in the list. However, because the last line at is not indented, it’s printed only once."
      ]
    },
    {
      "metadata": {
        "id": "Jx4gsCLgfofo",
        "colab_type": "text"
      },
      "cell_type": "markdown",
      "source": [
        "## Avoiding Indentation Errors\n",
        "Python uses indentation to determine when one line of code is connected to the line above it. In the previous examples, the lines that printed messages to individual magicians were part of the for loop because they were indented. As you begin to write code that relies on proper indentation, you’ll need to watch for a few common indentation errors."
      ]
    },
    {
      "metadata": {
        "id": "IctQ0glIgAdw",
        "colab_type": "text"
      },
      "cell_type": "markdown",
      "source": [
        "### Forgetting to Indent\n",
        "Always indent the line after the for statement in a loop. If you forget, Python will remind you:"
      ]
    },
    {
      "metadata": {
        "id": "FazaIhsPgG34",
        "colab_type": "code",
        "colab": {}
      },
      "cell_type": "code",
      "source": [
        "magicians = ['alice', 'david', 'carolina']\n",
        "\n",
        "for magician in magicians:\n",
        "print(magician)"
      ],
      "execution_count": 0,
      "outputs": []
    },
    {
      "metadata": {
        "id": "IXNLhJXqgUf_",
        "colab_type": "text"
      },
      "cell_type": "markdown",
      "source": [
        "### Forgetting to Indent Additional Lines\n",
        "Sometimes your loop will run without any errors but won’t produce the expected result. This can happen when you’re trying to do several tasks in a loop and you forget to indent some of its lines."
      ]
    },
    {
      "metadata": {
        "id": "pU8hDBJzgcGf",
        "colab_type": "code",
        "colab": {}
      },
      "cell_type": "code",
      "source": [
        "magicians = ['alice', 'david', 'carolina']\n",
        "\n",
        "for magician in magicians:\n",
        "  print(magician.title() + \", that was a great trick!\")\n",
        "print(\"I can't wait to see your next trick, \" + magician.title() + \".\\n\")"
      ],
      "execution_count": 0,
      "outputs": []
    },
    {
      "metadata": {
        "id": "N8jqNocIgiu_",
        "colab_type": "text"
      },
      "cell_type": "markdown",
      "source": [
        "This is a logical error. The syntax is valid Python code, but the code does not produce the desired result because a problem occurs in its logic."
      ]
    },
    {
      "metadata": {
        "id": "j4ZHnD7ogjk_",
        "colab_type": "code",
        "colab": {}
      },
      "cell_type": "code",
      "source": [
        "magicians = ['alice', 'david', 'carolina']\n",
        "\n",
        "#Correct Code\n",
        "for magician in magicians:\n",
        "  print(magician.title() + \", that was a great trick!\")\n",
        "  print(\"I can't wait to see your next trick, \" + magician.title() + \".\\n\")"
      ],
      "execution_count": 0,
      "outputs": []
    },
    {
      "metadata": {
        "id": "Abfjw1_WgmhA",
        "colab_type": "text"
      },
      "cell_type": "markdown",
      "source": [
        "### Indenting Unnecessarily\n",
        "If you accidentally indent a line that doesn’t need to be indented, Python informs you about the unexpected indent:"
      ]
    },
    {
      "metadata": {
        "id": "iV0u6vF5gxa4",
        "colab_type": "code",
        "colab": {}
      },
      "cell_type": "code",
      "source": [
        "message = \"Hello Python world!\"\n",
        "  print(message)"
      ],
      "execution_count": 0,
      "outputs": []
    },
    {
      "metadata": {
        "id": "QoRYBvsjg4c_",
        "colab_type": "text"
      },
      "cell_type": "markdown",
      "source": [
        "### Forgetting the Colon\n",
        "The colon at the end of a for statement tells Python to interpret the next line as the start of a loop. If you accidentally forget the colon, you’ll get a syntax error because Python doesn’t know what you’re trying to do. Such errors are difficult to find because we often just see what we expect to see.\n"
      ]
    },
    {
      "metadata": {
        "id": "vcSyj8ydhUYy",
        "colab_type": "code",
        "colab": {}
      },
      "cell_type": "code",
      "source": [
        "magicians = ['alice', 'david', 'carolina']\n",
        "\n",
        "for magician in magicians\n",
        "  print(magician)"
      ],
      "execution_count": 0,
      "outputs": []
    },
    {
      "metadata": {
        "id": "5_qo_CUjhbEC",
        "colab_type": "text"
      },
      "cell_type": "markdown",
      "source": [
        "## Making Numerical Lists\n",
        "Lists are ideal for storing sets of numbers, and Python provides a number of tools to help you work efficiently with lists of numbers. Once you understand how to use these tools effectively, your code will work well even when your lists contain millions of items."
      ]
    },
    {
      "metadata": {
        "id": "TQF3VUeViFBl",
        "colab_type": "text"
      },
      "cell_type": "markdown",
      "source": [
        "### Using the range() Function\n",
        "Python’s range() function makes it easy to generate a series of numbers. For example, you can use the range() function to print a series of numbers like this:"
      ]
    },
    {
      "metadata": {
        "id": "4VszbSvdiOaT",
        "colab_type": "code",
        "colab": {}
      },
      "cell_type": "code",
      "source": [
        "for value in range(1,5):\n",
        "  print(value)"
      ],
      "execution_count": 0,
      "outputs": []
    },
    {
      "metadata": {
        "id": "DTA50iAGiPgb",
        "colab_type": "text"
      },
      "cell_type": "markdown",
      "source": [
        "In this example, range() prints only the numbers 1 through 4. This is another result of the off-by-one behavior you’ll see often in programming languages. The range() function causes Python to start counting at the first value you give it, and it stops when it reaches the second value you provide."
      ]
    },
    {
      "metadata": {
        "id": "keUPcMKqiWJS",
        "colab_type": "text"
      },
      "cell_type": "markdown",
      "source": [
        "### Using range() to Make a List of Numbers\n",
        "If you want to make a list of numbers, you can convert the results of range() directly into a list using the list() function. When you wrap list() around a call to the range() function, the output will be a list of numbers as shown below:"
      ]
    },
    {
      "metadata": {
        "id": "R-r0xZemicWr",
        "colab_type": "code",
        "colab": {}
      },
      "cell_type": "code",
      "source": [
        "numbers = list(range(1,6))\n",
        "print(numbers)"
      ],
      "execution_count": 0,
      "outputs": []
    },
    {
      "metadata": {
        "id": "pwgEYzDhihE0",
        "colab_type": "text"
      },
      "cell_type": "markdown",
      "source": [
        "We can also use the range() function to tell Python to skip numbers in a given range. For example, here’s how we would list the even numbers between 1 and 10:"
      ]
    },
    {
      "metadata": {
        "id": "fw1DX7M7irW0",
        "colab_type": "code",
        "colab": {}
      },
      "cell_type": "code",
      "source": [
        "even_numbers = list(range(2,11,2))\n",
        "print(even_numbers)"
      ],
      "execution_count": 0,
      "outputs": []
    },
    {
      "metadata": {
        "id": "8hd0vJ2Qiuzs",
        "colab_type": "text"
      },
      "cell_type": "markdown",
      "source": [
        "You can create almost any set of numbers you want to using the range() function. For example, consider how you might make a list of the first 10 square numbers:"
      ]
    },
    {
      "metadata": {
        "id": "8KFD4JgSi7mr",
        "colab_type": "code",
        "colab": {}
      },
      "cell_type": "code",
      "source": [
        "squares = []\n",
        "\n",
        "for value in range(1,11):\n",
        "  squares.append(value**2)\n",
        "\n",
        "print(squares)"
      ],
      "execution_count": 0,
      "outputs": []
    },
    {
      "metadata": {
        "id": "cTuxeEfWjMw1",
        "colab_type": "text"
      },
      "cell_type": "markdown",
      "source": [
        "### Simple Statistics with a List of Numbers\n",
        "A few Python functions are specific to lists of numbers. For example, you can easily find the minimum, maximum, and sum of a list of numbers:"
      ]
    },
    {
      "metadata": {
        "id": "smtkTikSjP2t",
        "colab_type": "code",
        "colab": {}
      },
      "cell_type": "code",
      "source": [
        "digits = [1, 2, 3, 4, 5, 6, 7, 8, 9, 0]\n",
        "print(\"Smallest Digit\")\n",
        "print(min(digits))\n",
        "\n",
        "print(\"\\nLargest Digit\")\n",
        "print(max(digits))\n",
        "\n",
        "print(\"\\nSum of Digits\")\n",
        "print(sum(digits))"
      ],
      "execution_count": 0,
      "outputs": []
    },
    {
      "metadata": {
        "id": "oIJneVMLkQ9j",
        "colab_type": "text"
      },
      "cell_type": "markdown",
      "source": [
        "## List Comprehensions\n",
        "The approach described earlier for generating the list squares consisted of using three or four lines of code. A list comprehension allows you to generate this same list in just one line of code. A list comprehension combines the for loop and the creation of new elements into one line, and automatically appends each new element."
      ]
    },
    {
      "metadata": {
        "id": "mVaVrHAVkcnN",
        "colab_type": "code",
        "colab": {}
      },
      "cell_type": "code",
      "source": [
        "squares = [value**2 for value in range(1,11)]\n",
        "print(squares)"
      ],
      "execution_count": 0,
      "outputs": []
    },
    {
      "metadata": {
        "id": "BCEb0NjEkfse",
        "colab_type": "text"
      },
      "cell_type": "markdown",
      "source": [
        "To use this syntax, begin with a descriptive name for the list, such as squares. Next, open a set of square brackets and define the expression for the values you want to store in the new list. In this example the expression is `value**2`, which raises the value to the second power. Then, write a for loop to generate the numbers you want to feed into the expression, and close the square brackets. The for loop in this example is `for value in range(1,11)`, which feeds the values 1 through 10 into the expression `value**2`. Notice that no colon is used at the end of the for statement. The result is the same list of square numbers you saw earlier."
      ]
    },
    {
      "metadata": {
        "id": "cU6IInV4xP-U",
        "colab_type": "text"
      },
      "cell_type": "markdown",
      "source": [
        "## Working with Part of a List\n",
        "In Chapter 3 you learned how to access single elements in a list, and in this chapter you’ve been learning how to work through all the elements in a list. You can also work with a specific group of items in a list, which Python calls a ***slice***."
      ]
    },
    {
      "metadata": {
        "id": "EkskAwhZxXMX",
        "colab_type": "text"
      },
      "cell_type": "markdown",
      "source": [
        "### Slicing a List\n",
        "To make a slice, you specify the index of the first and last elements you want to work with. As with the range() function, Python stops one item before the second index you specify."
      ]
    },
    {
      "metadata": {
        "id": "IuYX4428xdKH",
        "colab_type": "code",
        "colab": {}
      },
      "cell_type": "code",
      "source": [
        "players = ['charles', 'martina', 'michael', 'florence', 'eli']\n",
        "print(players[0:3])"
      ],
      "execution_count": 0,
      "outputs": []
    },
    {
      "metadata": {
        "id": "JJ1hRS-zxhSX",
        "colab_type": "text"
      },
      "cell_type": "markdown",
      "source": [
        "The above code prints a slice of this list, which includes just the first three players at index 0, 1 and 2. You can generate any subset of a list. For example, if you want the second, third, and fourth items in a list, you would start the slice at index 1 and end at index 4:"
      ]
    },
    {
      "metadata": {
        "id": "S0K_esC4x4LQ",
        "colab_type": "code",
        "colab": {}
      },
      "cell_type": "code",
      "source": [
        "players = ['charles', 'martina', 'michael', 'florence', 'eli']\n",
        "print(players[1:4])"
      ],
      "execution_count": 0,
      "outputs": []
    },
    {
      "metadata": {
        "id": "qAg3zjuSx56Q",
        "colab_type": "text"
      },
      "cell_type": "markdown",
      "source": [
        "If you omit the first index in a slice, Python automatically starts your slice at the beginning of the list:"
      ]
    },
    {
      "metadata": {
        "id": "Lr3fsLKTx8dH",
        "colab_type": "code",
        "colab": {}
      },
      "cell_type": "code",
      "source": [
        "players = ['charles', 'martina', 'michael', 'florence', 'eli']\n",
        "print(players[:4])"
      ],
      "execution_count": 0,
      "outputs": []
    },
    {
      "metadata": {
        "id": "AU0HAQY7x-33",
        "colab_type": "text"
      },
      "cell_type": "markdown",
      "source": [
        "A similar syntax works if you want a slice that includes the end of a list. For example, if you want all items from the third item through the last item, you can start with index 2 and omit the second index:"
      ]
    },
    {
      "metadata": {
        "id": "wHhmVPdhyEFv",
        "colab_type": "code",
        "colab": {}
      },
      "cell_type": "code",
      "source": [
        "players = ['charles', 'martina', 'michael', 'florence', 'eli']\n",
        "print(players[2:])"
      ],
      "execution_count": 0,
      "outputs": []
    },
    {
      "metadata": {
        "id": "l3PafXV3yHn5",
        "colab_type": "text"
      },
      "cell_type": "markdown",
      "source": [
        "Recall that a negative index returns an element a certain distance from the end of a list; therefore, you can output any slice from the end of a list. For example, if we want to output the last three players on the roster, we can use the slice `players[-3:]`:"
      ]
    },
    {
      "metadata": {
        "id": "VyRbOBb_yQgo",
        "colab_type": "code",
        "colab": {}
      },
      "cell_type": "code",
      "source": [
        "players = ['charles', 'martina', 'michael', 'florence', 'eli']\n",
        "print(players[-3:])"
      ],
      "execution_count": 0,
      "outputs": []
    },
    {
      "metadata": {
        "id": "NxF1Ol4jyTg_",
        "colab_type": "text"
      },
      "cell_type": "markdown",
      "source": [
        "### Looping Through a Slice\n",
        "You can use a slice in a for loop if you want to loop through a subset of the elements in a list as shown:"
      ]
    },
    {
      "metadata": {
        "id": "lptsu2vlybPX",
        "colab_type": "code",
        "colab": {}
      },
      "cell_type": "code",
      "source": [
        "players = ['charles', 'martina', 'michael', 'florence', 'eli']\n",
        "\n",
        "print(\"Here are the first three players on my team:\")\n",
        "for player in players[:3]:\n",
        "  print(player.title())"
      ],
      "execution_count": 0,
      "outputs": []
    },
    {
      "metadata": {
        "id": "xN1gH8TWyf53",
        "colab_type": "text"
      },
      "cell_type": "markdown",
      "source": [
        "When you’re working with data, you can use slices to process your data in chunks of a specific size. Or, when you’re building a web application, you could use slices to display information in a series of pages with an appropriate amount of information on each page."
      ]
    },
    {
      "metadata": {
        "id": "u8g7jwUny0cf",
        "colab_type": "text"
      },
      "cell_type": "markdown",
      "source": [
        "### Copying a List\n",
        "To copy a list, you can make a slice that includes the entire original list by omitting the first index and the second index (`[:]`). This tells Python to make a slice that starts at the first item and ends with the last item, producing a copy of the entire list."
      ]
    },
    {
      "metadata": {
        "id": "YSbgHw1oytc0",
        "colab_type": "code",
        "colab": {}
      },
      "cell_type": "code",
      "source": [
        "my_foods = ['pizza', 'falafel', 'carrot cake']\n",
        "friend_foods = my_foods[:]\n",
        "\n",
        "print(\"My favorite foods are:\")\n",
        "print(my_foods)\n",
        "\n",
        "print(\"\\nMy friend's favorite foods are:\")\n",
        "print(friend_foods)"
      ],
      "execution_count": 0,
      "outputs": []
    },
    {
      "metadata": {
        "id": "R_sM_y6qzCk_",
        "colab_type": "text"
      },
      "cell_type": "markdown",
      "source": [
        "To prove that we actually have two separate lists, we’ll add a new food to each list and show that each list keeps track of the appropriate person’s favorite foods:"
      ]
    },
    {
      "metadata": {
        "id": "jkrFs_0CzdMv",
        "colab_type": "code",
        "colab": {}
      },
      "cell_type": "code",
      "source": [
        "my_foods = ['pizza', 'falafel', 'carrot cake']\n",
        "friend_foods = my_foods[:]\n",
        "\n",
        "my_foods.append('cannoli')\n",
        "friend_foods.append('ice cream')\n",
        "\n",
        "print(\"My favorite foods are:\")\n",
        "print(my_foods)\n",
        "\n",
        "print(\"\\nMy friend's favorite foods are:\")\n",
        "print(friend_foods)"
      ],
      "execution_count": 0,
      "outputs": []
    },
    {
      "metadata": {
        "id": "bNKWJRAFz8U3",
        "colab_type": "text"
      },
      "cell_type": "markdown",
      "source": [
        "If we had simply set friend_foods equal to my_foods, we would not produce two separate lists. For example, here’s what happens when you try to copy a list without using a slice:"
      ]
    },
    {
      "metadata": {
        "id": "wBb2JUg9z9be",
        "colab_type": "code",
        "colab": {}
      },
      "cell_type": "code",
      "source": [
        "my_foods = ['pizza', 'falafel', 'carrot cake']\n",
        "\n",
        "#This doesn't work:\n",
        "friend_foods = my_foods\n",
        "\n",
        "my_foods.append('cannoli')\n",
        "friend_foods.append('ice cream')\n",
        "\n",
        "print(\"My favorite foods are:\")\n",
        "print(my_foods)\n",
        "\n",
        "print(\"\\nMy friend's favorite foods are:\")\n",
        "print(friend_foods)"
      ],
      "execution_count": 0,
      "outputs": []
    },
    {
      "metadata": {
        "id": "-qnR1ruO0LGn",
        "colab_type": "text"
      },
      "cell_type": "markdown",
      "source": [
        "Instead of storing a copy of `my_foods` in `friend_foods`, we set `friend_foods` equal to `my_foods`. This syntax actually tells Python to connect the new variable `friend_foods` to the list that is already contained in `my_foods`, so now both variables point to the same list. \n",
        "\n",
        "As a result, when we add '`cannoli`' to my_foods, it will also appear in `friend_foods`. Likewise '`ice cream`' will appear in both lists, even though it appears to be added only to `friend_foods`."
      ]
    },
    {
      "metadata": {
        "id": "Y6r_WWF90bPP",
        "colab_type": "text"
      },
      "cell_type": "markdown",
      "source": [
        "## Tuples\n",
        "Lists work well for storing sets of items that can change throughout the life of a program. The ability to modify lists is particularly important when you’re working with a list of users on a website or a list of characters in a game. However, sometimes you’ll want to create a list of items that cannot change. Tuples allow you to do just that. Python refers to values that cannot change as immutable, and an *immutable* list is called a ***tuple***."
      ]
    },
    {
      "metadata": {
        "id": "N6bP00JH2R-l",
        "colab_type": "text"
      },
      "cell_type": "markdown",
      "source": [
        "### Defining a Tuple\n",
        "A tuple looks just like a list except you use parentheses instead of square brackets. Once you define a tuple, you can access individual elements by using each item’s index, just as you would for a list."
      ]
    },
    {
      "metadata": {
        "id": "o-c5EyCU2Zns",
        "colab_type": "code",
        "colab": {}
      },
      "cell_type": "code",
      "source": [
        "#For example, if we have a rectangle that should always be a certain size\n",
        "dimensions = (200, 50)\n",
        "\n",
        "print(dimensions[0])\n",
        "print(dimensions[1])"
      ],
      "execution_count": 0,
      "outputs": []
    },
    {
      "metadata": {
        "id": "56OnKqWP2mbU",
        "colab_type": "text"
      },
      "cell_type": "markdown",
      "source": [
        "If we try to change one of the items in the tuple dimensions, Python returns a type error:"
      ]
    },
    {
      "metadata": {
        "id": "GHW7Rb622qeM",
        "colab_type": "code",
        "colab": {}
      },
      "cell_type": "code",
      "source": [
        "dimensions = (200, 50)\n",
        "dimensions[0] = 250"
      ],
      "execution_count": 0,
      "outputs": []
    },
    {
      "metadata": {
        "id": "0zVZT2dZ2w5A",
        "colab_type": "text"
      },
      "cell_type": "markdown",
      "source": [
        "### Looping Through All Values in a Tuple\n",
        "You can loop over all the values in a tuple using a for loop, just as you did with a list:"
      ]
    },
    {
      "metadata": {
        "id": "TRjv4B5Z25OY",
        "colab_type": "code",
        "colab": {}
      },
      "cell_type": "code",
      "source": [
        "dimensions = (200, 50)\n",
        "\n",
        "for dimension in dimensions:\n",
        "  print(dimension)"
      ],
      "execution_count": 0,
      "outputs": []
    },
    {
      "metadata": {
        "id": "9KOxWp0V28lc",
        "colab_type": "text"
      },
      "cell_type": "markdown",
      "source": [
        "### Writing over a Tuple\n",
        "Although you can’t modify a tuple, you can assign a new value to a variable that holds a tuple. So if we wanted to change our dimensions, we could redefine the entire tuple:"
      ]
    },
    {
      "metadata": {
        "id": "aJ4VuBvw3EOk",
        "colab_type": "code",
        "colab": {}
      },
      "cell_type": "code",
      "source": [
        "dimensions = (200, 50)\n",
        "print(\"Original dimensions:\")\n",
        "for dimension in dimensions:\n",
        "  print(dimension)\n",
        "\n",
        "dimensions = (400, 100)\n",
        "print(\"\\nModified dimensions:\")\n",
        "for dimension in dimensions:\n",
        "  print(dimension)"
      ],
      "execution_count": 0,
      "outputs": []
    },
    {
      "metadata": {
        "id": "2p78FMNf3LID",
        "colab_type": "text"
      },
      "cell_type": "markdown",
      "source": [
        "When compared with lists, tuples are simple data structures. Use them when you want to store a set of values that should not be changed throughout the life of a program."
      ]
    }
  ]
}