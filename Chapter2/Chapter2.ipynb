{
  "nbformat": 4,
  "nbformat_minor": 0,
  "metadata": {
    "colab": {
      "name": "Untitled2.ipynb",
      "version": "0.3.2",
      "provenance": [],
      "include_colab_link": true
    },
    "kernelspec": {
      "name": "python3",
      "display_name": "Python 3"
    }
  },
  "cells": [
    {
      "cell_type": "markdown",
      "metadata": {
        "id": "view-in-github",
        "colab_type": "text"
      },
      "source": [
        "<a href=\"https://colab.research.google.com/github/sin2akshay/Python-Crash-Course/blob/master/Chapter2/Chapter2.ipynb\" target=\"_parent\"><img src=\"https://colab.research.google.com/assets/colab-badge.svg\" alt=\"Open In Colab\"/></a>"
      ]
    },
    {
      "metadata": {
        "id": "KnzrrNcFCgrP",
        "colab_type": "code",
        "colab": {}
      },
      "cell_type": "code",
      "source": [
        ""
      ],
      "execution_count": 0,
      "outputs": []
    },
    {
      "metadata": {
        "id": "sc3saj7uEPPZ",
        "colab_type": "text"
      },
      "cell_type": "markdown",
      "source": [
        "# Chapter 2 - Variables and Simple Data Types"
      ]
    },
    {
      "metadata": {
        "id": "6Tc_k6HeEPS_",
        "colab_type": "text"
      },
      "cell_type": "markdown",
      "source": [
        "## Variables\n",
        "\n",
        "Let’s try using a variable in our program. Add a new line at the beginning, and modify the second line as follows:"
      ]
    },
    {
      "metadata": {
        "id": "AbQPs3rwEksw",
        "colab_type": "code",
        "colab": {}
      },
      "cell_type": "code",
      "source": [
        "message = \"Hello Python world!\"\n",
        "print(message)"
      ],
      "execution_count": 0,
      "outputs": []
    },
    {
      "metadata": {
        "id": "5_dsEHfpEPWm",
        "colab_type": "text"
      },
      "cell_type": "markdown",
      "source": [
        "As you can see that the output didn't change from earlier. We’ve added a variable named message. Every variable holds a value, which is the information associated with that variable. In this case the value is the text “Hello Python world!”"
      ]
    },
    {
      "metadata": {
        "id": "YOwATCXLFVYq",
        "colab_type": "text"
      },
      "cell_type": "markdown",
      "source": [
        "Let’s expand on this program to print a second message. Add a blank line and then add two new lines of code:"
      ]
    },
    {
      "metadata": {
        "id": "pzz4TtduFL-R",
        "colab_type": "code",
        "colab": {}
      },
      "cell_type": "code",
      "source": [
        "message = \"Hello Python world!\"\n",
        "print(message)\n",
        "\n",
        "message = \"Hello Python Crash Course world!\"\n",
        "print(message)"
      ],
      "execution_count": 0,
      "outputs": []
    },
    {
      "metadata": {
        "id": "gLl777EBFfxI",
        "colab_type": "text"
      },
      "cell_type": "markdown",
      "source": [
        "We can see that there are two lines of output which indicates that we can change the value of a variable in your program at any time, and Python will always keep track of its current value due to which we were able to print both lines using a single variable."
      ]
    },
    {
      "metadata": {
        "id": "AAcw7geHF1aw",
        "colab_type": "code",
        "colab": {}
      },
      "cell_type": "code",
      "source": [
        ""
      ],
      "execution_count": 0,
      "outputs": []
    }
  ]
}