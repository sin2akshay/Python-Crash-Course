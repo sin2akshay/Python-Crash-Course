{
  "nbformat": 4,
  "nbformat_minor": 0,
  "metadata": {
    "colab": {
      "name": "Untitled2.ipynb",
      "version": "0.3.2",
      "provenance": [],
      "include_colab_link": true
    },
    "kernelspec": {
      "name": "python3",
      "display_name": "Python 3"
    }
  },
  "cells": [
    {
      "cell_type": "markdown",
      "metadata": {
        "id": "view-in-github",
        "colab_type": "text"
      },
      "source": [
        "<a href=\"https://colab.research.google.com/github/sin2akshay/Python-Crash-Course/blob/master/Chapter2/Chapter2.ipynb\" target=\"_parent\"><img src=\"https://colab.research.google.com/assets/colab-badge.svg\" alt=\"Open In Colab\"/></a>"
      ]
    },
    {
      "metadata": {
        "id": "sc3saj7uEPPZ",
        "colab_type": "text"
      },
      "cell_type": "markdown",
      "source": [
        "# Chapter 2 - Variables and Simple Data Types"
      ]
    },
    {
      "metadata": {
        "id": "6Tc_k6HeEPS_",
        "colab_type": "text"
      },
      "cell_type": "markdown",
      "source": [
        "## Variables\n",
        "\n",
        "Let’s try using a variable in our program. Add a new line at the beginning, and modify the second line as follows:"
      ]
    },
    {
      "metadata": {
        "id": "AbQPs3rwEksw",
        "colab_type": "code",
        "colab": {
          "base_uri": "https://localhost:8080/",
          "height": 35
        },
        "outputId": "6339210d-0bb8-4657-a960-d359cf54fd87"
      },
      "cell_type": "code",
      "source": [
        "message = \"Hello Python world!\"\n",
        "print(message)"
      ],
      "execution_count": 1,
      "outputs": [
        {
          "output_type": "stream",
          "text": [
            "Hello Python world!\n"
          ],
          "name": "stdout"
        }
      ]
    },
    {
      "metadata": {
        "id": "5_dsEHfpEPWm",
        "colab_type": "text"
      },
      "cell_type": "markdown",
      "source": [
        "As you can see that the output didn't change from earlier. We’ve added a variable named message. Every variable holds a value, which is the information associated with that variable. In this case the value is the text “Hello Python world!”"
      ]
    },
    {
      "metadata": {
        "id": "YOwATCXLFVYq",
        "colab_type": "text"
      },
      "cell_type": "markdown",
      "source": [
        "Let’s expand on this program to print a second message. Add a blank line and then add two new lines of code:"
      ]
    },
    {
      "metadata": {
        "id": "pzz4TtduFL-R",
        "colab_type": "code",
        "colab": {
          "base_uri": "https://localhost:8080/",
          "height": 54
        },
        "outputId": "0e5881dd-df9d-4c2e-9864-2973690bbae5"
      },
      "cell_type": "code",
      "source": [
        "message = \"Hello Python world!\"\n",
        "print(message)\n",
        "\n",
        "message = \"Hello Python Crash Course world!\"\n",
        "print(message)"
      ],
      "execution_count": 2,
      "outputs": [
        {
          "output_type": "stream",
          "text": [
            "Hello Python world!\n",
            "Hello Python Crash Course world!\n"
          ],
          "name": "stdout"
        }
      ]
    },
    {
      "metadata": {
        "id": "gLl777EBFfxI",
        "colab_type": "text"
      },
      "cell_type": "markdown",
      "source": [
        "We can see that there are two lines of output which indicates that we can change the value of a variable in your program at any time, and Python will always keep track of its current value due to which we were able to print both lines using a single variable."
      ]
    },
    {
      "metadata": {
        "id": "j7_03Q4Q_3UV",
        "colab_type": "text"
      },
      "cell_type": "markdown",
      "source": [
        "### Avoiding Name Errors when Using Variables\n",
        "We’ll write some code that generates an error on purpose. Enter the following code, including the misspelled word mesage instead of message:"
      ]
    },
    {
      "metadata": {
        "id": "Y3UbF1k6AB6X",
        "colab_type": "code",
        "colab": {
          "base_uri": "https://localhost:8080/",
          "height": 191
        },
        "outputId": "277d8294-3ee7-436d-ad27-e01161f56e62"
      },
      "cell_type": "code",
      "source": [
        "message = \"Hello Python Crash Course reader!\"\n",
        "print(mesage)"
      ],
      "execution_count": 3,
      "outputs": [
        {
          "output_type": "error",
          "ename": "NameError",
          "evalue": "ignored",
          "traceback": [
            "\u001b[0;31m---------------------------------------------------------------------------\u001b[0m",
            "\u001b[0;31mNameError\u001b[0m                                 Traceback (most recent call last)",
            "\u001b[0;32m<ipython-input-3-c8f2adeaed02>\u001b[0m in \u001b[0;36m<module>\u001b[0;34m()\u001b[0m\n\u001b[1;32m      1\u001b[0m \u001b[0mmessage\u001b[0m \u001b[0;34m=\u001b[0m \u001b[0;34m\"Hello Python Crash Course reader!\"\u001b[0m\u001b[0;34m\u001b[0m\u001b[0;34m\u001b[0m\u001b[0m\n\u001b[0;32m----> 2\u001b[0;31m \u001b[0mprint\u001b[0m\u001b[0;34m(\u001b[0m\u001b[0mmesage\u001b[0m\u001b[0;34m)\u001b[0m\u001b[0;34m\u001b[0m\u001b[0;34m\u001b[0m\u001b[0m\n\u001b[0m",
            "\u001b[0;31mNameError\u001b[0m: name 'mesage' is not defined"
          ]
        }
      ]
    },
    {
      "metadata": {
        "id": "zVcU03jFAJOG",
        "colab_type": "text"
      },
      "cell_type": "markdown",
      "source": [
        "When an error occurs in your program, the Python ***interpreter*** does its best to help you figure out where the problem is. The interpreter provides a ***traceback*** when a program cannot run successfully. A traceback is a record of where the interpreter ran into trouble when trying to execute your code. "
      ]
    },
    {
      "metadata": {
        "id": "_-Q6Y6yIA6UE",
        "colab_type": "text"
      },
      "cell_type": "markdown",
      "source": [
        "## Strings\n",
        "The first data type we’ll look at is the string. Strings are quite simple at first glance, but you can use them in many different ways. A string is simply a series of characters. Anything inside quotes is considered a string in Python, and you can use single or double quotes around your strings. This flexibility allows you to use quotes and apostrophes within your strings:"
      ]
    },
    {
      "metadata": {
        "id": "MfaPYAmBBPIj",
        "colab_type": "code",
        "colab": {
          "base_uri": "https://localhost:8080/",
          "height": 72
        },
        "outputId": "2f2385de-1d37-4c17-f69d-394f0f7fb7ee"
      },
      "cell_type": "code",
      "source": [
        "#Using single quotes when the string contains double quotes\n",
        "print('I told my friend, \"Python is my favorite language!\"')\n",
        "\n",
        "#Using double quotes when the string contains single quotes\n",
        "print(\"The language 'Python' is named after Monty Python, not the snake.\")\n",
        "\n",
        "print(\"One of Python's strengths is its diverse and supportive community.\")"
      ],
      "execution_count": 4,
      "outputs": [
        {
          "output_type": "stream",
          "text": [
            "I told my friend, \"Python is my favorite language!\"\n",
            "The language 'Python' is named after Monty Python, not the snake.\n",
            "One of Python's strengths is its diverse and supportive community.\n"
          ],
          "name": "stdout"
        }
      ]
    },
    {
      "metadata": {
        "id": "7viCkPxMBoL4",
        "colab_type": "text"
      },
      "cell_type": "markdown",
      "source": [
        "### Changing Case in a string with Methods\n",
        "One of the simplest tasks you can do with strings is change the case of the words in a string."
      ]
    },
    {
      "metadata": {
        "id": "VieeZ-4GBYoR",
        "colab_type": "code",
        "colab": {
          "base_uri": "https://localhost:8080/",
          "height": 35
        },
        "outputId": "6ecae0de-4b86-404e-b776-01dc5bc4aa11"
      },
      "cell_type": "code",
      "source": [
        "name = \"ada lovelace\"\n",
        "print(name.title())"
      ],
      "execution_count": 5,
      "outputs": [
        {
          "output_type": "stream",
          "text": [
            "Ada Lovelace\n"
          ],
          "name": "stdout"
        }
      ]
    },
    {
      "metadata": {
        "id": "SRw9AuUsB-Wv",
        "colab_type": "text"
      },
      "cell_type": "markdown",
      "source": [
        "In this example, the lowercase string \"ada lovelace\" is stored in the variable name. The method title() appears after the variable in the print() statement. A ***method*** is an action that Python can perform on a piece of data. The dot (.) after name in name.title() tells Python to make the title() method act on the variable name. Every method is followed by a *set of parentheses*, because methods often need additional information to do their work. That information is provided inside the parentheses. The title() function doesn’t need any additional information, so its parentheses are empty."
      ]
    },
    {
      "metadata": {
        "id": "ROs4jdJ0CQzJ",
        "colab_type": "text"
      },
      "cell_type": "markdown",
      "source": [
        "**title()** displays each word in titlecase. Several other useful methods are available for dealing with case as well. For example, you can change a string to all **uppercase** or all **lowercase** letters like this:"
      ]
    },
    {
      "metadata": {
        "id": "NTupXE8AB8eK",
        "colab_type": "code",
        "colab": {
          "base_uri": "https://localhost:8080/",
          "height": 54
        },
        "outputId": "0b0c74c4-78b2-4e34-bdce-454f93b5b62b"
      },
      "cell_type": "code",
      "source": [
        "name = \"Ada Lovelace\"\n",
        "print(name.upper())\n",
        "print(name.lower())"
      ],
      "execution_count": 6,
      "outputs": [
        {
          "output_type": "stream",
          "text": [
            "ADA LOVELACE\n",
            "ada lovelace\n"
          ],
          "name": "stdout"
        }
      ]
    },
    {
      "metadata": {
        "id": "hFX9Pr_fCkju",
        "colab_type": "text"
      },
      "cell_type": "markdown",
      "source": [
        "### Combining or Concatenating Strings\n",
        "Python uses the plus symbol (+) to combine strings. In this example, we use + to create a full name by combining a first_name, a space, and a last_name. This method of combining strings is called concatenation."
      ]
    },
    {
      "metadata": {
        "id": "9I147Sw6DJpy",
        "colab_type": "code",
        "colab": {
          "base_uri": "https://localhost:8080/",
          "height": 35
        },
        "outputId": "333103a3-3eb7-4de7-cd7c-69fe81cd1523"
      },
      "cell_type": "code",
      "source": [
        "first_name = \"ada\"\n",
        "last_name = \"lovelace\"\n",
        "full_name = first_name + \" \" + last_name\n",
        "\n",
        "print(full_name)"
      ],
      "execution_count": 7,
      "outputs": [
        {
          "output_type": "stream",
          "text": [
            "ada lovelace\n"
          ],
          "name": "stdout"
        }
      ]
    },
    {
      "metadata": {
        "id": "ugzJljmnDuNi",
        "colab_type": "code",
        "colab": {
          "base_uri": "https://localhost:8080/",
          "height": 35
        },
        "outputId": "6740568b-daed-4062-8ca8-e8c9dfc61106"
      },
      "cell_type": "code",
      "source": [
        "first_name = \"ada\"\n",
        "last_name = \"lovelace\"\n",
        "full_name = first_name + \" \" + last_name\n",
        "\n",
        "#Concatenating string stored in variable with any other string\n",
        "message = \"Hello, \" + full_name.title() + \"!\"\n",
        "print(message)"
      ],
      "execution_count": 8,
      "outputs": [
        {
          "output_type": "stream",
          "text": [
            "Hello, Ada Lovelace!\n"
          ],
          "name": "stdout"
        }
      ]
    },
    {
      "metadata": {
        "id": "fS6zMfMMDZYX",
        "colab_type": "text"
      },
      "cell_type": "markdown",
      "source": [
        "### Adding Whitespace to Strings with Tabs or Newlines\n",
        "In programming, ***`whitespace`*** refers to any non-printing character, such as spaces, tabs, and end-of-line symbols. You can use whitespace to organize your output so it’s easier for users to read.\n",
        "\n",
        "\n",
        "*   To add a tab to your text, use the character combination \\t\n",
        "*   To add a newline in a string, use the character combination \\n\n",
        "\n"
      ]
    },
    {
      "metadata": {
        "id": "KTed6G2DEiUL",
        "colab_type": "code",
        "colab": {
          "base_uri": "https://localhost:8080/",
          "height": 35
        },
        "outputId": "2816dc86-eeed-4deb-e03d-2e54bc7a8903"
      },
      "cell_type": "code",
      "source": [
        "#Original\n",
        "print(\"Languages:Python C JavaScript\")\n"
      ],
      "execution_count": 14,
      "outputs": [
        {
          "output_type": "stream",
          "text": [
            "Languages:Python C JavaScript\n"
          ],
          "name": "stdout"
        }
      ]
    },
    {
      "metadata": {
        "id": "X9OipeQdFiUG",
        "colab_type": "code",
        "colab": {
          "base_uri": "https://localhost:8080/",
          "height": 35
        },
        "outputId": "7df0a4f6-f029-43a5-ea4f-fbdd13a7ed01"
      },
      "cell_type": "code",
      "source": [
        "\n",
        "#Using \\t\n",
        "print(\"Languages:\\tPython\\tC\\tJavaScript\")\n"
      ],
      "execution_count": 15,
      "outputs": [
        {
          "output_type": "stream",
          "text": [
            "Languages:\tPython\tC\tJavaScript\n"
          ],
          "name": "stdout"
        }
      ]
    },
    {
      "metadata": {
        "id": "4Fjr5rRHFj6l",
        "colab_type": "code",
        "colab": {
          "base_uri": "https://localhost:8080/",
          "height": 90
        },
        "outputId": "e7ba2c7e-dea6-4971-eecb-05246594e9fc"
      },
      "cell_type": "code",
      "source": [
        "#Using \\n\n",
        "print(\"Languages:\\nPython\\nC\\nJavaScript\")"
      ],
      "execution_count": 16,
      "outputs": [
        {
          "output_type": "stream",
          "text": [
            "Languages:\n",
            "Python\n",
            "C\n",
            "JavaScript\n"
          ],
          "name": "stdout"
        }
      ]
    },
    {
      "metadata": {
        "id": "0znWoPtYFmir",
        "colab_type": "code",
        "colab": {
          "base_uri": "https://localhost:8080/",
          "height": 90
        },
        "outputId": "dd24faac-914f-4ba7-8760-1dd854a3194d"
      },
      "cell_type": "code",
      "source": [
        "#Combining both\n",
        "print(\"Languages:\\n\\tPython\\n\\tC\\n\\tJavaScript\")"
      ],
      "execution_count": 17,
      "outputs": [
        {
          "output_type": "stream",
          "text": [
            "Languages:\n",
            "\tPython\n",
            "\tC\n",
            "\tJavaScript\n"
          ],
          "name": "stdout"
        }
      ]
    },
    {
      "metadata": {
        "id": "TJWtJLxGEWSW",
        "colab_type": "text"
      },
      "cell_type": "markdown",
      "source": [
        "### Stripping Whitespace\n",
        "Extra whitespace can be confusing in your programs. It’s important to think about whitespace, because often you’ll want to compare two strings to determine whether they are the same. For example, one important instance might involve checking people’s usernames when they log in to a website. Extra whitespace can be confusing in much simpler  situations as well.  \n",
        "  \n",
        "Fortunately, Python makes it easy to eliminate extraneous whitespace from data that people enter. Python can look for extra whitespace on the right and left sides of a string. To ensure that no whitespace exists at the right end of a string, use the **rstrip()** method. You can also strip whitespace from the left side of a string using the **lstrip()** method or strip whitespace from both sides at once using **strip()**"
      ]
    },
    {
      "metadata": {
        "id": "ygm75BJDDLzd",
        "colab_type": "code",
        "colab": {
          "base_uri": "https://localhost:8080/",
          "height": 54
        },
        "outputId": "1f6e8253-d7be-4218-9fa6-954f5b7a64b0"
      },
      "cell_type": "code",
      "source": [
        "#You can not see it visually in the output but there exists extra spaces on the\n",
        "#right as declared below\n",
        "favorite_language = 'python    '\n",
        "print (favorite_language)\n",
        "\n",
        "favorite_language = favorite_language.rstrip()\n",
        "print (favorite_language)"
      ],
      "execution_count": 18,
      "outputs": [
        {
          "output_type": "stream",
          "text": [
            "python    \n",
            "python    \n"
          ],
          "name": "stdout"
        }
      ]
    },
    {
      "metadata": {
        "id": "frq3k36mHE1H",
        "colab_type": "code",
        "colab": {
          "base_uri": "https://localhost:8080/",
          "height": 54
        },
        "outputId": "3153c0c4-2999-4b1e-8e76-a2b1bdbb64b8"
      },
      "cell_type": "code",
      "source": [
        "#You can see it visually in the output that there exists extra spaces on the\n",
        "#left as declared below\n",
        "favorite_language = '    python'\n",
        "print (favorite_language)\n",
        "\n",
        "favorite_language = favorite_language.lstrip()\n",
        "print (favorite_language)"
      ],
      "execution_count": 20,
      "outputs": [
        {
          "output_type": "stream",
          "text": [
            "    python\n",
            "python\n"
          ],
          "name": "stdout"
        }
      ]
    },
    {
      "metadata": {
        "id": "qKU9j7vkG3yd",
        "colab_type": "code",
        "colab": {
          "base_uri": "https://localhost:8080/",
          "height": 54
        },
        "outputId": "cd4410ba-cfc2-422c-f3db-567186c7aa69"
      },
      "cell_type": "code",
      "source": [
        "favorite_language = '    python    '\n",
        "print (favorite_language)\n",
        "\n",
        "#You can directly use the method in print rather than creating separate variable\n",
        "print(favorite_language.strip())"
      ],
      "execution_count": 23,
      "outputs": [
        {
          "output_type": "stream",
          "text": [
            "    python    \n",
            "python\n"
          ],
          "name": "stdout"
        }
      ]
    },
    {
      "metadata": {
        "id": "mOGIRl1FH4xK",
        "colab_type": "text"
      },
      "cell_type": "markdown",
      "source": [
        "## Numbers\n",
        "Numbers are used quite often in programming to keep score in games, represent data in visualizations, store information in web applications, and so on. Python treats numbers in several different ways, depending on how they are being used."
      ]
    },
    {
      "metadata": {
        "id": "RGdCE71NIBsN",
        "colab_type": "text"
      },
      "cell_type": "markdown",
      "source": [
        "#### Integers\n",
        "Let’s first look at how Python manages integers, because they are the simplest to work with."
      ]
    },
    {
      "metadata": {
        "id": "0GJZchnaHm0O",
        "colab_type": "code",
        "colab": {
          "base_uri": "https://localhost:8080/",
          "height": 201
        },
        "outputId": "d76fdf44-6cab-4498-c312-61e70cb2d746"
      },
      "cell_type": "code",
      "source": [
        "print(2 + 3) #Outputs 5\n",
        "print ('\\n')\n",
        "\n",
        "print(3 - 2) #Outputs 1\n",
        "print ('\\n')\n",
        "\n",
        "print(2 * 3) #Outputs 6\n",
        "print ('\\n')\n",
        "\n",
        "print(3 / 2) #Outputs 1.5"
      ],
      "execution_count": 24,
      "outputs": [
        {
          "output_type": "stream",
          "text": [
            "5\n",
            "\n",
            "\n",
            "1\n",
            "\n",
            "\n",
            "6\n",
            "\n",
            "\n",
            "1.5\n"
          ],
          "name": "stdout"
        }
      ]
    },
    {
      "metadata": {
        "id": "YIgrszmQIse7",
        "colab_type": "code",
        "colab": {
          "base_uri": "https://localhost:8080/",
          "height": 90
        },
        "outputId": "f187669d-e27a-4516-fde3-4e8e86174aba"
      },
      "cell_type": "code",
      "source": [
        "#Python uses two multiplication symbols to represent exponents\n",
        "print(2**3) #Outputs 8\n",
        "print ('\\n')\n",
        "\n",
        "print(10**6) #Outputs 1000000\n"
      ],
      "execution_count": 26,
      "outputs": [
        {
          "output_type": "stream",
          "text": [
            "8\n",
            "\n",
            "\n",
            "1000000\n"
          ],
          "name": "stdout"
        }
      ]
    },
    {
      "metadata": {
        "id": "_ThWWPXOJAWe",
        "colab_type": "text"
      },
      "cell_type": "markdown",
      "source": [
        "Python supports the order of operations too, so you can use multiple operations in one expression. You can also use parentheses to modify the order of operations so Python can evaluate your expression in the order you specify."
      ]
    },
    {
      "metadata": {
        "id": "iOMOThJkI9Cf",
        "colab_type": "code",
        "colab": {
          "base_uri": "https://localhost:8080/",
          "height": 90
        },
        "outputId": "dac20fab-000b-40fa-e493-133a0f95fd7c"
      },
      "cell_type": "code",
      "source": [
        "print(2 + 3*4) #Outputs 14\n",
        "print ('\\n')\n",
        "\n",
        "print((2 + 3) * 4) #Outputs 20"
      ],
      "execution_count": 27,
      "outputs": [
        {
          "output_type": "stream",
          "text": [
            "14\n",
            "\n",
            "\n",
            "20\n"
          ],
          "name": "stdout"
        }
      ]
    },
    {
      "metadata": {
        "id": "VzE9r87JIoGi",
        "colab_type": "text"
      },
      "cell_type": "markdown",
      "source": [
        "The spacing in these examples has no effect on how Python evaluates the expressions; it simply helps you more quickly spot the operations that have priority when you’re reading through the code."
      ]
    },
    {
      "metadata": {
        "id": "he2F92KNJjXr",
        "colab_type": "text"
      },
      "cell_type": "markdown",
      "source": [
        "#### Floats\n",
        "Python calls any number with a decimal point a float. This term is used in most programming languages, and it refers to the fact that a decimal point can appear at any position in a number."
      ]
    },
    {
      "metadata": {
        "id": "YYOrYGefIjoP",
        "colab_type": "code",
        "colab": {
          "base_uri": "https://localhost:8080/",
          "height": 90
        },
        "outputId": "7d852866-cc69-4342-f766-4caa610aed66"
      },
      "cell_type": "code",
      "source": [
        "print(0.1 + 0.1) #Outputs 0.2\n",
        "\n",
        "print(0.2 + 0.2) #Outputs 0.4\n",
        "\n",
        "print(2 * 0.1) #Outputs 0.2\n",
        "\n",
        "print(2 * 0.2) #Outputs 0.4"
      ],
      "execution_count": 28,
      "outputs": [
        {
          "output_type": "stream",
          "text": [
            "0.2\n",
            "0.4\n",
            "0.2\n",
            "0.4\n"
          ],
          "name": "stdout"
        }
      ]
    },
    {
      "metadata": {
        "id": "NGsOI7owKGHX",
        "colab_type": "text"
      },
      "cell_type": "markdown",
      "source": [
        "But be aware that you can sometimes get an arbitrary number of decimal places in your answer. This happens in all languages and is of little concern. Python tries to find a way to represent the result as precisely as possible, which is sometimes difficult given how computers have to represent numbers internally."
      ]
    },
    {
      "metadata": {
        "id": "pOXceKnZKD43",
        "colab_type": "code",
        "colab": {
          "base_uri": "https://localhost:8080/",
          "height": 54
        },
        "outputId": "552867da-efd6-4d4c-9a35-99da36213d13"
      },
      "cell_type": "code",
      "source": [
        "print(0.2 + 0.1)\n",
        "#Outputs 0.30000000000000004\n",
        "\n",
        "print(3 * 0.1)\n",
        "#Outputs 0.30000000000000004"
      ],
      "execution_count": 29,
      "outputs": [
        {
          "output_type": "stream",
          "text": [
            "0.30000000000000004\n",
            "0.30000000000000004\n"
          ],
          "name": "stdout"
        }
      ]
    },
    {
      "metadata": {
        "id": "MV2snWXQLJ9J",
        "colab_type": "text"
      },
      "cell_type": "markdown",
      "source": [
        "#### Avoiding Type Errors with the str() Function\n",
        "Often, you’ll want to use a variable’s value within a message. For example, say you want to wish someone a happy birthday. You might write code like the code below. You might expect this code to print the simple birthday greeting, Happy 23rd birthday! But if you run this code, you’ll see that it generates an error."
      ]
    },
    {
      "metadata": {
        "id": "EFMrUTdCLVw2",
        "colab_type": "code",
        "colab": {
          "base_uri": "https://localhost:8080/",
          "height": 227
        },
        "outputId": "52283ecc-31ce-405a-cdf2-ff022197da1e"
      },
      "cell_type": "code",
      "source": [
        "age = 23\n",
        "message = \"Happy \" + age + \"rd Birthday!\"\n",
        "\n",
        "print(message)"
      ],
      "execution_count": 30,
      "outputs": [
        {
          "output_type": "error",
          "ename": "TypeError",
          "evalue": "ignored",
          "traceback": [
            "\u001b[0;31m---------------------------------------------------------------------------\u001b[0m",
            "\u001b[0;31mTypeError\u001b[0m                                 Traceback (most recent call last)",
            "\u001b[0;32m<ipython-input-30-4d54be8cf23f>\u001b[0m in \u001b[0;36m<module>\u001b[0;34m()\u001b[0m\n\u001b[1;32m      1\u001b[0m \u001b[0mage\u001b[0m \u001b[0;34m=\u001b[0m \u001b[0;36m23\u001b[0m\u001b[0;34m\u001b[0m\u001b[0;34m\u001b[0m\u001b[0m\n\u001b[0;32m----> 2\u001b[0;31m \u001b[0mmessage\u001b[0m \u001b[0;34m=\u001b[0m \u001b[0;34m\"Happy \"\u001b[0m \u001b[0;34m+\u001b[0m \u001b[0mage\u001b[0m \u001b[0;34m+\u001b[0m \u001b[0;34m\"rd Birthday!\"\u001b[0m\u001b[0;34m\u001b[0m\u001b[0;34m\u001b[0m\u001b[0m\n\u001b[0m\u001b[1;32m      3\u001b[0m \u001b[0;34m\u001b[0m\u001b[0m\n\u001b[1;32m      4\u001b[0m \u001b[0mprint\u001b[0m\u001b[0;34m(\u001b[0m\u001b[0mmessage\u001b[0m\u001b[0;34m)\u001b[0m\u001b[0;34m\u001b[0m\u001b[0;34m\u001b[0m\u001b[0m\n",
            "\u001b[0;31mTypeError\u001b[0m: must be str, not int"
          ]
        }
      ]
    },
    {
      "metadata": {
        "id": "k_BX26uTLeNm",
        "colab_type": "text"
      },
      "cell_type": "markdown",
      "source": [
        "This is a type error. It means Python can’t recognize the kind of information you’re using. In this example Python sees at u that you’re using a variable that has an integer value (int), but it’s not sure how to interpret that. When you use integers within strings like this, you need to specify explicitly that you want Python to use the integer as a string of characters. You can do this by wrapping the variable in the str() function, which tells Python to represent non-string values as strings"
      ]
    },
    {
      "metadata": {
        "id": "XqsKXi4yKYRL",
        "colab_type": "code",
        "colab": {
          "base_uri": "https://localhost:8080/",
          "height": 35
        },
        "outputId": "dd1331fb-be2c-4e6b-ec99-958a547afcbf"
      },
      "cell_type": "code",
      "source": [
        "age = 23\n",
        "message = \"Happy \" + str(age) + \"rd Birthday!\"\n",
        "\n",
        "print(message)"
      ],
      "execution_count": 31,
      "outputs": [
        {
          "output_type": "stream",
          "text": [
            "Happy 23rd Birthday!\n"
          ],
          "name": "stdout"
        }
      ]
    },
    {
      "metadata": {
        "id": "yfa3CiPkLrQC",
        "colab_type": "text"
      },
      "cell_type": "markdown",
      "source": [
        "## Comments\n",
        "Comments are an extremely useful feature in most programming languages. Everything you’ve written in your programs so far is Python code. As your programs become longer and more complicated, you should add notes within your programs that describe your overall approach to the problem you’re solving. A comment allows you to write notes in English within your programs."
      ]
    },
    {
      "metadata": {
        "id": "iOadr8xdL6Kd",
        "colab_type": "text"
      },
      "cell_type": "markdown",
      "source": [
        "In Python, the **hash mark (#)** indicates a comment. Anything following a **hash mark (#) **in your code is ignored by the Python interpreter. For example:"
      ]
    },
    {
      "metadata": {
        "id": "L51_hCfDLnW1",
        "colab_type": "code",
        "colab": {
          "base_uri": "https://localhost:8080/",
          "height": 35
        },
        "outputId": "093210f1-8961-49f4-d8b5-536ce94285d6"
      },
      "cell_type": "code",
      "source": [
        "# Say hello to everyone.\n",
        "print(\"Hello Python people!\")"
      ],
      "execution_count": 32,
      "outputs": [
        {
          "output_type": "stream",
          "text": [
            "Hello Python people!\n"
          ],
          "name": "stdout"
        }
      ]
    },
    {
      "metadata": {
        "id": "nlZQWTA7MHFz",
        "colab_type": "text"
      },
      "cell_type": "markdown",
      "source": [
        "Python ignores the first line and executes the second line. You have already seen this being used in the notebook earlier before."
      ]
    }
  ]
}