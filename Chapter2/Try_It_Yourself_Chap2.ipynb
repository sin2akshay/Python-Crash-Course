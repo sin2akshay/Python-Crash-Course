{
  "nbformat": 4,
  "nbformat_minor": 0,
  "metadata": {
    "colab": {
      "name": "Untitled0.ipynb",
      "version": "0.3.2",
      "provenance": [],
      "include_colab_link": true
    },
    "kernelspec": {
      "name": "python3",
      "display_name": "Python 3"
    }
  },
  "cells": [
    {
      "cell_type": "markdown",
      "metadata": {
        "id": "view-in-github",
        "colab_type": "text"
      },
      "source": [
        "<a href=\"https://colab.research.google.com/github/sin2akshay/Python-Crash-Course/blob/master/Chapter2/Try_It_Yourself_Chap2.ipynb\" target=\"_parent\"><img src=\"https://colab.research.google.com/assets/colab-badge.svg\" alt=\"Open In Colab\"/></a>"
      ]
    },
    {
      "metadata": {
        "id": "cPEGg4_kNXl7",
        "colab_type": "text"
      },
      "cell_type": "markdown",
      "source": [
        "# TRY IT YOURSELF\n",
        "Write a separate program to accomplish each of these exercises."
      ]
    },
    {
      "metadata": {
        "id": "qAXfI58QpbL1",
        "colab_type": "text"
      },
      "cell_type": "markdown",
      "source": [
        "#### 2-1. Simple Message: Store a message in a variable, and then print that message."
      ]
    },
    {
      "metadata": {
        "id": "inBumb1JNdKl",
        "colab_type": "code",
        "colab": {}
      },
      "cell_type": "code",
      "source": [
        "var1 = 'I am a Message'\n",
        "\n",
        "print(var1)"
      ],
      "execution_count": 0,
      "outputs": []
    },
    {
      "metadata": {
        "id": "P9-NGLErpnt1",
        "colab_type": "text"
      },
      "cell_type": "markdown",
      "source": [
        "#### 2-2. Simple Messages: Store a message in a variable, and print that message. Then change the value of your variable to a new message, and print the new message."
      ]
    },
    {
      "metadata": {
        "id": "2RCCTotcpljW",
        "colab_type": "code",
        "colab": {}
      },
      "cell_type": "code",
      "source": [
        "var1 = 'I am a Message'\n",
        "print(var1)\n",
        "\n",
        "var1 = 'I am the modified Message'\n",
        "print(var1)"
      ],
      "execution_count": 0,
      "outputs": []
    },
    {
      "metadata": {
        "id": "3o_bGn7Ip4v8",
        "colab_type": "text"
      },
      "cell_type": "markdown",
      "source": [
        "#### 2-3. Personal Message: Store a person’s name in a variable, and print a message to that person. Your message should be simple, such as, “Hello Eric, would you like to learn some Python today?”"
      ]
    },
    {
      "metadata": {
        "id": "FwfQKKTYqE-E",
        "colab_type": "code",
        "colab": {}
      },
      "cell_type": "code",
      "source": [
        "name = 'Akshay'\n",
        "print (\"Hello \" + name = \", would you like to learn some Python today?\")"
      ],
      "execution_count": 0,
      "outputs": []
    },
    {
      "metadata": {
        "id": "kuVPyiX7qQW0",
        "colab_type": "text"
      },
      "cell_type": "markdown",
      "source": [
        "#### 2-4. Name Cases: Store a person’s name in a variable, and then print that person’s name in lowercase, uppercase, and titlecase."
      ]
    },
    {
      "metadata": {
        "id": "_fw3jrdqqTHc",
        "colab_type": "code",
        "colab": {}
      },
      "cell_type": "code",
      "source": [
        "name = 'Akshay'\n",
        "print(\"Lowercase: \" + name.lower())\n",
        "print(\"Uppercase: \" + name.upper())\n",
        "print(\"Titlecase: \" + name.title())"
      ],
      "execution_count": 0,
      "outputs": []
    },
    {
      "metadata": {
        "id": "ZDEq_grhqhD7",
        "colab_type": "text"
      },
      "cell_type": "markdown",
      "source": [
        "#### 2-5. Famous Quote: Find a quote from a famous person you admire. Print the quote and the name of its author. Your output should look something like the following, including the quotation marks: Albert Einstein once said, “A person who never made a mistake never tried anything new.”"
      ]
    },
    {
      "metadata": {
        "id": "FqxtxA2Eqpnr",
        "colab_type": "code",
        "colab": {}
      },
      "cell_type": "code",
      "source": [
        "print('Albert Einstein once said, \"A person who never made a mistake never tried anything new.\"')"
      ],
      "execution_count": 0,
      "outputs": []
    },
    {
      "metadata": {
        "id": "uSfE28Ovq3d1",
        "colab_type": "text"
      },
      "cell_type": "markdown",
      "source": [
        "#### 2-6. Famous Quote 2: Repeat Exercise 2-5, but this time store the famous person’s name in a variable called famous_person. Then compose your message and store it in a new variable called message. Print your message."
      ]
    },
    {
      "metadata": {
        "id": "bQIr7uPRq8CV",
        "colab_type": "code",
        "colab": {}
      },
      "cell_type": "code",
      "source": [
        "author = 'Albert Einstein'\n",
        "message = author + 'once said, \"A person who never made a mistake never tried anything new.\"'\n",
        "print(message)"
      ],
      "execution_count": 0,
      "outputs": []
    },
    {
      "metadata": {
        "id": "Zrtm9n8CrMw9",
        "colab_type": "text"
      },
      "cell_type": "markdown",
      "source": [
        "#### 2-7. Stripping Names: Store a person’s name, and include some whitespace characters at the beginning and end of the name. Make sure you use each character combination, \"\\t\" and \"\\n\", at least once. Print the name once, so the whitespace around the name is displayed. Then print the name using each of the three stripping functions, lstrip(), rstrip(), and strip()"
      ]
    },
    {
      "metadata": {
        "id": "Beekbya9ra0W",
        "colab_type": "code",
        "colab": {}
      },
      "cell_type": "code",
      "source": [
        "name = '\\n\\tAkshay\\n\\t'\n",
        "\n",
        "print(\"With Whitespace: \" + name)\n",
        "print(\"Using lstrip(): \" + name.lstrip())\n",
        "print(\"Using rstrip(): \" + name.rstrip())\n",
        "print(\"Using strip(): \" + name.strip())"
      ],
      "execution_count": 0,
      "outputs": []
    },
    {
      "metadata": {
        "id": "59h-h-MIr2bf",
        "colab_type": "text"
      },
      "cell_type": "markdown",
      "source": [
        "#### 2-8. Number Eight: Write addition, subtraction, multiplication, and division operations that each result in the number 8. Be sure to enclose your operations in print statements to see the results. You should create four lines that look like this:\n",
        "\n",
        "`print(5 + 3)`\n",
        "\n",
        "Your output should simply be four lines with the number 8 appearing once on each line."
      ]
    },
    {
      "metadata": {
        "id": "MFGYAkSFsK3X",
        "colab_type": "code",
        "colab": {}
      },
      "cell_type": "code",
      "source": [
        "print (5 + 3)\n",
        "print (10 - 2)\n",
        "print (4 * 2)\n",
        "print (40 / 5)"
      ],
      "execution_count": 0,
      "outputs": []
    },
    {
      "metadata": {
        "id": "8sswMdVosKO4",
        "colab_type": "text"
      },
      "cell_type": "markdown",
      "source": [
        "#### 2-9. Favorite Number: Store your favorite number in a variable. Then, using that variable, create a message that reveals your favorite number. Print that message."
      ]
    },
    {
      "metadata": {
        "id": "40qq0a_Fsgm_",
        "colab_type": "code",
        "colab": {}
      },
      "cell_type": "code",
      "source": [
        "favnum = 3\n",
        "message = \"My favourite number is \" + str(favnum))"
      ],
      "execution_count": 0,
      "outputs": []
    },
    {
      "metadata": {
        "id": "5tAaxmp0suUR",
        "colab_type": "text"
      },
      "cell_type": "markdown",
      "source": [
        "#### 2-10. Adding Comments: Choose one of the programs you’ve written, and add at least one comment to each. If you don’t have anything specific to write because your programs are too simple at this point, just add your name and the current date at the top of each program file. Then write one sentence describing what the program does."
      ]
    },
    {
      "metadata": {
        "id": "SH7amqQ_s0vR",
        "colab_type": "code",
        "colab": {}
      },
      "cell_type": "code",
      "source": [
        "#Addition\n",
        "print (5 + 3)\n",
        "#Subtraction\n",
        "print (10 - 2)\n",
        "#Multiplication\n",
        "print (4 * 2)\n",
        "#Division\n",
        "print (40 / 5)"
      ],
      "execution_count": 0,
      "outputs": []
    },
    {
      "metadata": {
        "id": "QIfkfuB8tPzk",
        "colab_type": "text"
      },
      "cell_type": "markdown",
      "source": [
        "#### 2-11. Zen of Python: Enter import this into a Python terminal session and skim through the additional principles."
      ]
    },
    {
      "metadata": {
        "id": "eSFmr04JtUBV",
        "colab_type": "code",
        "colab": {}
      },
      "cell_type": "code",
      "source": [
        "import this"
      ],
      "execution_count": 0,
      "outputs": []
    }
  ]
}