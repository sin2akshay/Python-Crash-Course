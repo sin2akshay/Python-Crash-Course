{
  "nbformat": 4,
  "nbformat_minor": 0,
  "metadata": {
    "colab": {
      "name": "Untitled1.ipynb",
      "version": "0.3.2",
      "provenance": [],
      "include_colab_link": true
    },
    "kernelspec": {
      "name": "python3",
      "display_name": "Python 3"
    }
  },
  "cells": [
    {
      "cell_type": "markdown",
      "metadata": {
        "id": "view-in-github",
        "colab_type": "text"
      },
      "source": [
        "<a href=\"https://colab.research.google.com/github/sin2akshay/Python-Crash-Course/blob/master/Chapter5/Chapter%205%20-%20IF%20Statements.ipynb\" target=\"_parent\"><img src=\"https://colab.research.google.com/assets/colab-badge.svg\" alt=\"Open In Colab\"/></a>"
      ]
    },
    {
      "metadata": {
        "id": "JHsTPiVT4mWU",
        "colab_type": "text"
      },
      "cell_type": "markdown",
      "source": [
        "# Chapter 5 - IF Statements\n",
        "In this chapter you’ll learn to write conditional tests, which allow you to check any condition of interest. You’ll learn to write simple if statements, and you’ll learn how to create a more complex series of if statements to  identify when the exact conditions you want are present. You’ll then apply this concept to lists, so you’ll be able to write a for loop that handles most items in a list one way but handles certain items with specific values in a different way."
      ]
    },
    {
      "metadata": {
        "id": "OBaG1Sej7WcW",
        "colab_type": "text"
      },
      "cell_type": "markdown",
      "source": [
        "## A Simple Example\n",
        "The following short example shows how if tests let you respond to special situations correctly. Imagine you have a list of cars and you want to print out the name of each car. Car names are proper names, so the names of most cars should be printed in title case. However, the value 'bmw' should be printed in all uppercase. The following code loops through a list of car names and looks for the value 'bmw'. Whenever the value is 'bmw', it’s printed in uppercase instead of title case:"
      ]
    },
    {
      "metadata": {
        "id": "muVfKVkF7gkW",
        "colab_type": "code",
        "colab": {}
      },
      "cell_type": "code",
      "source": [
        "cars = ['audi', 'bmw', 'subaru', 'toyota']\n",
        "for car in cars:\n",
        "    if car == 'bmw':\n",
        "        print(car.upper())\n",
        "    else:\n",
        "        print(car.title())"
      ],
      "execution_count": 0,
      "outputs": []
    },
    {
      "metadata": {
        "id": "tQa_ryDr8L91",
        "colab_type": "text"
      },
      "cell_type": "markdown",
      "source": [
        "#### NOTE: \n",
        "`'==' This equality operator returns True if the values on the left and right side of the operator match, and False if they don’t match.  `"
      ]
    },
    {
      "metadata": {
        "id": "4MwyELR17rpd",
        "colab_type": "text"
      },
      "cell_type": "markdown",
      "source": [
        "## Conditional Tests\n",
        "At the heart of every if statement is an expression that can be evaluated as True or False and is called a conditional test. Python uses the values True and False to decide whether the code in an if statement should be executed. If a conditional test evaluates to True, Python executes the code following the if statement. If the test evaluates to False, Python ignores the code following the if statement."
      ]
    },
    {
      "metadata": {
        "id": "s5Rj8L-b89LX",
        "colab_type": "text"
      },
      "cell_type": "markdown",
      "source": [
        "### Checking for Equality"
      ]
    },
    {
      "metadata": {
        "id": "BDcCZ-K57van",
        "colab_type": "code",
        "colab": {}
      },
      "cell_type": "code",
      "source": [
        "car = 'Audi'\n",
        "\n",
        "#Remember that comparison in python is case sensitive\n",
        "print(car == 'audi')   #Returns False\n",
        "print(car.lower() == 'audi')    #Returns True"
      ],
      "execution_count": 0,
      "outputs": []
    },
    {
      "metadata": {
        "id": "RAuvVLV49esw",
        "colab_type": "text"
      },
      "cell_type": "markdown",
      "source": [
        "### Checking for Inequality\n",
        "When you want to determine whether two values are not equal, you can combine an exclamation point and an equal sign (!=). The exclamation point represents not, as it does in many programming languages."
      ]
    },
    {
      "metadata": {
        "id": "zyOCAcS0x_bp",
        "colab_type": "code",
        "colab": {}
      },
      "cell_type": "code",
      "source": [
        "requested_topping = 'mushrooms'\n",
        "\n",
        "if requested_topping != 'anchovies':\n",
        "    print(\"Hold the anchovies!\")"
      ],
      "execution_count": 0,
      "outputs": []
    },
    {
      "metadata": {
        "id": "f92pAHK1_PhC",
        "colab_type": "text"
      },
      "cell_type": "markdown",
      "source": [
        "### Numerical Comparisons\n",
        "Testing numerical values is pretty straightforward."
      ]
    },
    {
      "metadata": {
        "id": "pO9l6NG6_h9C",
        "colab_type": "code",
        "colab": {}
      },
      "cell_type": "code",
      "source": [
        "age = 18\n",
        "\n",
        "print(age == 18)\n",
        "print(age != 18)"
      ],
      "execution_count": 0,
      "outputs": []
    },
    {
      "metadata": {
        "id": "ifNjFGq5_vfz",
        "colab_type": "text"
      },
      "cell_type": "markdown",
      "source": [
        "You can include various mathematical comparisons in your conditional statements as well, such as less than, less than or equal to, greater than, and greater than or equal to:"
      ]
    },
    {
      "metadata": {
        "id": "AA6FiMLl_y9S",
        "colab_type": "code",
        "colab": {}
      },
      "cell_type": "code",
      "source": [
        "age = 19\n",
        "\n",
        "print(age < 21)\n",
        "print(age > 21)\n",
        "\n",
        "print(age <= 21)\n",
        "print(age >= 21)"
      ],
      "execution_count": 0,
      "outputs": []
    },
    {
      "metadata": {
        "id": "QZbfccq1AD2r",
        "colab_type": "text"
      },
      "cell_type": "markdown",
      "source": [
        "Each mathematical comparison can be used as part of an if statement, which can help you detect the exact conditions of interest."
      ]
    },
    {
      "metadata": {
        "id": "ufJ_jIYpAI4_",
        "colab_type": "text"
      },
      "cell_type": "markdown",
      "source": [
        "### Checking Multiple Conditions\n",
        "You may want to check multiple conditions at the same time. For example, sometimes you might need two conditions to be True to take an action. Other times you might be satisfied with just one condition being True."
      ]
    },
    {
      "metadata": {
        "id": "z0sOvum8ASW-",
        "colab_type": "text"
      },
      "cell_type": "markdown",
      "source": [
        "#### Using and to Check Multiple Conditions\n",
        "To check whether two conditions are both True simultaneously, use the keyword and to combine the two conditional tests; if each test passes, the overall expression evaluates to True. If either test fails or if both tests fail, the expression evaluates to False."
      ]
    },
    {
      "metadata": {
        "id": "HcirkSBQA-Is",
        "colab_type": "code",
        "colab": {}
      },
      "cell_type": "code",
      "source": [
        "age_0 = 22\n",
        "age_1 = 18\n",
        "\n",
        "if(age_0 >= 21 and age_1 >= 21):\n",
        "    print('True')\n",
        "else:\n",
        "    print('False')"
      ],
      "execution_count": 0,
      "outputs": []
    },
    {
      "metadata": {
        "id": "xmIoCfDNBTfm",
        "colab_type": "text"
      },
      "cell_type": "markdown",
      "source": [
        "To improve readability, you can use parentheses around the individual tests, but they are not required.\n",
        "\n",
        "\n",
        "---\n",
        "\n",
        "`(age_0 >= 21) and (age_1 >= 21)`\n",
        "\n",
        "---\n",
        "\n"
      ]
    },
    {
      "metadata": {
        "id": "9jqv__5LBazO",
        "colab_type": "text"
      },
      "cell_type": "markdown",
      "source": [
        "#### Using or to Check Multiple Conditions\n",
        "The keyword or allows you to check multiple conditions as well, but it passes when either or both of the individual tests pass. An or expression fails only when both individual tests fail.\n",
        "\n"
      ]
    },
    {
      "metadata": {
        "id": "CXmEWuylBn03",
        "colab_type": "code",
        "colab": {}
      },
      "cell_type": "code",
      "source": [
        "age_0 = 22\n",
        "age_1 = 18\n",
        "\n",
        "if(age_0 >= 21 or age_1 >= 21):\n",
        "    print('True')\n",
        "else:\n",
        "    print('False')\n",
        "    \n",
        "age_0 = 18    \n",
        "if(age_0 >= 21 and age_1 >= 21):\n",
        "    print('True')\n",
        "else:\n",
        "    print('False')"
      ],
      "execution_count": 0,
      "outputs": []
    },
    {
      "metadata": {
        "id": "nS4BrSh3B1un",
        "colab_type": "text"
      },
      "cell_type": "markdown",
      "source": [
        "### Checking Whether a Value Is in a List\n",
        "To find out whether a particular value is already in a list, use the keyword **`in`**. Let’s consider some code you might write for a pizzeria."
      ]
    },
    {
      "metadata": {
        "id": "vxLCk07iCEqI",
        "colab_type": "code",
        "colab": {}
      },
      "cell_type": "code",
      "source": [
        "requested_toppings = ['mushrooms', 'onions', 'pineapple']"
      ],
      "execution_count": 0,
      "outputs": []
    },
    {
      "metadata": {
        "id": "FDm_eXTFCW1w",
        "colab_type": "code",
        "colab": {}
      },
      "cell_type": "code",
      "source": [
        "'mushrooms' in requested_toppings"
      ],
      "execution_count": 0,
      "outputs": []
    },
    {
      "metadata": {
        "id": "cTvlrkfkCZAY",
        "colab_type": "code",
        "colab": {}
      },
      "cell_type": "code",
      "source": [
        "'pepperoni' in requested_toppings"
      ],
      "execution_count": 0,
      "outputs": []
    },
    {
      "metadata": {
        "id": "MR1IekG4CcG5",
        "colab_type": "text"
      },
      "cell_type": "markdown",
      "source": [
        "### Checking Whether a Value Is Not in a List\n",
        "Other times, it’s important to know if a value does not appear in a list. You can use the keyword  ***`not in`***  this situation. For example, consider a list of users who are banned from commenting in a forum."
      ]
    },
    {
      "metadata": {
        "id": "6LiGz2a3CtuY",
        "colab_type": "code",
        "colab": {}
      },
      "cell_type": "code",
      "source": [
        "banned_users = ['andrew', 'carolina', 'david']\n",
        "users.py user = 'marie'\n",
        "\n",
        "if user not in banned_users:\n",
        "    print(user.title() + \", you can post a response if you wish.\")"
      ],
      "execution_count": 0,
      "outputs": []
    },
    {
      "metadata": {
        "id": "XL1isRnrC6i6",
        "colab_type": "text"
      },
      "cell_type": "markdown",
      "source": [
        "### Boolean Expressions\n",
        "As you learn more about programming, you’ll hear the term Boolean expression at some point. A Boolean expression is just another name for a conditional test. A Boolean value is either *`True`* or *`False`*, just like the value of a conditional expression after it has been evaluated."
      ]
    },
    {
      "metadata": {
        "id": "Xb3SlADbDM4X",
        "colab_type": "text"
      },
      "cell_type": "markdown",
      "source": [
        "Boolean values are often used to keep track of certain conditions, such as whether a game is running or whether a user can edit certain content on a website:\n",
        "\n",
        "\n",
        "---\n",
        "\n",
        "\n",
        "\n",
        "\n",
        "```\n",
        "game_active = True\n",
        "can_edit = False\n",
        "```\n",
        "\n",
        "\n",
        "\n",
        "\n",
        "---\n",
        "\n"
      ]
    },
    {
      "metadata": {
        "id": "uzLBy3d5DQox",
        "colab_type": "text"
      },
      "cell_type": "markdown",
      "source": [
        "## if Statements\n",
        "When you understand conditional tests, you can start writing if statements. Several different kinds of if statements exist, and your choice of which to use depends on the number of conditions you need to test. Let's dig deeper."
      ]
    },
    {
      "metadata": {
        "id": "wNl00lIuDry_",
        "colab_type": "text"
      },
      "cell_type": "markdown",
      "source": [
        "### Simple if Statements"
      ]
    },
    {
      "metadata": {
        "id": "eivgxKvoDueB",
        "colab_type": "code",
        "colab": {}
      },
      "cell_type": "code",
      "source": [
        "age = 19\n",
        "\n",
        "if age >= 18:\n",
        "    print(\"You are old enough to vote!\")"
      ],
      "execution_count": 0,
      "outputs": []
    },
    {
      "metadata": {
        "id": "gvihegSUD9cQ",
        "colab_type": "text"
      },
      "cell_type": "markdown",
      "source": [
        "Indentation plays the same role in if statements as it did in for loops. All indented lines after an if statement will be executed if the test passes, and the entire block of indented lines will be ignored if the test does not pass. Let’s add another line of output if the person is old enough to vote, asking if the individual has registered to vote yet:"
      ]
    },
    {
      "metadata": {
        "id": "1gZ3lKhKEMpI",
        "colab_type": "code",
        "colab": {}
      },
      "cell_type": "code",
      "source": [
        "age = 19\n",
        "\n",
        "if age >= 18:\n",
        "    print(\"You are old enough to vote!\")\n",
        "    print(\"Have you registered to vote yet?\")"
      ],
      "execution_count": 0,
      "outputs": []
    },
    {
      "metadata": {
        "id": "k6Wo5AyQD_HA",
        "colab_type": "text"
      },
      "cell_type": "markdown",
      "source": [
        "### if-else Statements\n",
        "Often, you’ll want to take one action when a conditional test passes and a different action in all other cases. Python’s if-else syntax makes this possible."
      ]
    },
    {
      "metadata": {
        "id": "FKQgALFLEYUR",
        "colab_type": "code",
        "colab": {}
      },
      "cell_type": "code",
      "source": [
        "age = 17\n",
        "\n",
        "if age >= 18:\n",
        "    print(\"You are old enough to vote!\")\n",
        "    print(\"Have you registered to vote yet?\")\n",
        "else:\n",
        "    print(\"Sorry, you are too young to vote.\")\n",
        "    print(\"Please register to vote as soon as you turn 18!\")"
      ],
      "execution_count": 0,
      "outputs": []
    },
    {
      "metadata": {
        "id": "90QAsEe9EeJZ",
        "colab_type": "text"
      },
      "cell_type": "markdown",
      "source": [
        "### The if-elif-else Chain\n",
        "Often, you’ll need to test more than two possible situations, and to evaluate these you can use Python’s if-elif-else syntax. Python executes only one block in an if-elif-else chain. It runs each conditional test in order until one passes. When a test passes, the code following that test is executed and Python skips the rest of the tests."
      ]
    },
    {
      "metadata": {
        "id": "Z3D0WvAaEnnL",
        "colab_type": "text"
      },
      "cell_type": "markdown",
      "source": [
        "For example, consider an amusement park that charges different rates for\n",
        "different age groups:\n",
        "*   Admission for anyone under age 4 is free.\n",
        "\n",
        "*   Admission for anyone between the ages of 4 and 18 is $5\n",
        "\n",
        "*  Admission for anyone age 18 or older is $10."
      ]
    },
    {
      "metadata": {
        "id": "m9AgyM2qE4SM",
        "colab_type": "code",
        "colab": {}
      },
      "cell_type": "code",
      "source": [
        "age = 12\n",
        "\n",
        "if age < 4:\n",
        "    print(\"Your admission cost is $0.\")\n",
        "elif age < 18:\n",
        "    print(\"Your admission cost is $5.\")\n",
        "else:\n",
        "    print(\"Your admission cost is $10.\")"
      ],
      "execution_count": 0,
      "outputs": []
    },
    {
      "metadata": {
        "id": "AkED--wpE_Mq",
        "colab_type": "text"
      },
      "cell_type": "markdown",
      "source": [
        "Rather than printing the admission price within the if-elif-else block, it would be more concise to set just the price inside the if-elif-else chain and then have a simple print statement that runs after the chain has been evaluated:"
      ]
    },
    {
      "metadata": {
        "id": "vCvAU2WjFWQI",
        "colab_type": "code",
        "colab": {}
      },
      "cell_type": "code",
      "source": [
        "age = 12\n",
        "\n",
        "if age < 4:\n",
        "    price = 0\n",
        "elif age < 18:\n",
        "    price = 5\n",
        "else:\n",
        "    price = 10\n",
        "\n",
        "print(\"Your admission cost is $\" + str(price) + \".\")"
      ],
      "execution_count": 0,
      "outputs": []
    },
    {
      "metadata": {
        "id": "TcvUB8Z9Fq4o",
        "colab_type": "text"
      },
      "cell_type": "markdown",
      "source": [
        "You can use as many elif blocks in your code as you like."
      ]
    },
    {
      "metadata": {
        "id": "3DpYXRQyFbAi",
        "colab_type": "text"
      },
      "cell_type": "markdown",
      "source": [
        "### Omitting the else Block\n",
        "Python does not require an else block at the end of an if-elif chain. Sometimes an else block is useful; sometimes it is clearer to use an additional elif statement that catches the specific condition of interest:\n"
      ]
    },
    {
      "metadata": {
        "id": "iHJ5DX2JFyfQ",
        "colab_type": "code",
        "colab": {}
      },
      "cell_type": "code",
      "source": [
        "age = 12\n",
        "\n",
        "if age < 4:\n",
        "    price = 0\n",
        "elif age < 18:\n",
        "    price = 5\n",
        "elif age < 65:\n",
        "    price = 10\n",
        "elif age >= 65:\n",
        "    price = 5\n",
        "\n",
        "print(\"Your admission cost is $\" + str(price) + \".\")"
      ],
      "execution_count": 0,
      "outputs": []
    },
    {
      "metadata": {
        "id": "-0YSD5hIF8FY",
        "colab_type": "text"
      },
      "cell_type": "markdown",
      "source": [
        "The else block is a catchall statement. It matches any condition that wasn’t matched by a specific if or elif test, and that can sometimes include invalid or even malicious data. If you have a specific final condition you are testing for, consider using a final elif block and omit the else block. As a result, you’ll gain extra confidence that your code will run only under the correct conditions."
      ]
    },
    {
      "metadata": {
        "id": "ABFI0npqGClM",
        "colab_type": "text"
      },
      "cell_type": "markdown",
      "source": [
        "### Testing Multiple Conditions\n",
        "As soon as Python finds one test that passes, it skips the rest of the tests. This behavior is beneficial, because it’s efficient and allows you to test for one specific condition. "
      ]
    },
    {
      "metadata": {
        "id": "ydKWuV2AGlep",
        "colab_type": "text"
      },
      "cell_type": "markdown",
      "source": [
        "However, sometimes it’s important to check all of the conditions of interest. In this case, you should use a series of simple if statements with no elif or else blocks. Let’s reconsider the pizzeria example. If someone requests a two-topping pizza, you’ll need to be sure to include both toppings on their pizza:"
      ]
    },
    {
      "metadata": {
        "id": "SeJKfdieGchB",
        "colab_type": "code",
        "colab": {}
      },
      "cell_type": "code",
      "source": [
        "requested_toppings = ['mushrooms', 'extra cheese']\n",
        "\n",
        "if 'mushrooms' in requested_toppings:\n",
        "    print(\"Adding mushrooms.\")\n",
        "if 'pepperoni' in requested_toppings:\n",
        "    print(\"Adding pepperoni.\")\n",
        "if 'extra cheese' in requested_toppings:\n",
        "    print(\"Adding extra cheese.\")\n",
        "\n",
        "print(\"\\nFinished making your pizza!\")"
      ],
      "execution_count": 0,
      "outputs": []
    },
    {
      "metadata": {
        "id": "Gc1Yf-gfGY45",
        "colab_type": "text"
      },
      "cell_type": "markdown",
      "source": [
        "## Using if Statements with Lists\n",
        "You can do some interesting work when you combine lists and if statements. You can watch for special values that need to be treated differently than other values in the list. You can manage changing conditions efficiently, such as the availability of certain items in a restaurant throughout a shift. You can also begin to prove that your code works as you expect it to in all possible situations."
      ]
    },
    {
      "metadata": {
        "id": "F-qfWaMyHv5a",
        "colab_type": "text"
      },
      "cell_type": "markdown",
      "source": [
        "### Checking for Special Items\n",
        "Now that you have a basic understanding of conditional tests and if statements, let’s take a closer look at how you can watch for special values in a list and handle those values appropriately. Continuing with the pizzeria example, the pizzeria displays a message whenever a topping is added to your pizza, as it’s being made."
      ]
    },
    {
      "metadata": {
        "id": "Ul4Ux-1TJXA5",
        "colab_type": "code",
        "colab": {}
      },
      "cell_type": "code",
      "source": [
        "requested_toppings = ['mushrooms', 'green peppers', 'extra cheese']\n",
        "\n",
        "for requested_topping in requested_toppings:\n",
        "    print(\"Adding \" + requested_topping + \".\")\n",
        "    \n",
        "print(\"\\nFinished making your pizza!\")"
      ],
      "execution_count": 0,
      "outputs": []
    },
    {
      "metadata": {
        "id": "Ey0btPbZJaxr",
        "colab_type": "text"
      },
      "cell_type": "markdown",
      "source": [
        "But what if the pizzeria runs out of green peppers? An if statement inside the for loop can handle this situation appropriately:"
      ]
    },
    {
      "metadata": {
        "id": "XkFighXQJduB",
        "colab_type": "code",
        "colab": {}
      },
      "cell_type": "code",
      "source": [
        "requested_toppings = ['mushrooms', 'green peppers', 'extra cheese']\n",
        "\n",
        "for requested_topping in requested_toppings:\n",
        "    if requested_topping == 'green peppers':\n",
        "        print(\"Sorry, we are out of green peppers right now.\")\n",
        "    else:\n",
        "        print(\"Adding \" + requested_topping + \".\")\n",
        "\n",
        "print(\"\\nFinished making your pizza!\")"
      ],
      "execution_count": 0,
      "outputs": []
    },
    {
      "metadata": {
        "id": "sDRgy018JmjS",
        "colab_type": "text"
      },
      "cell_type": "markdown",
      "source": [
        "### Checking That a List Is Not Empty\n",
        "We’ve made a simple assumption about every list we’ve worked with so far; we’ve assumed that each list has at least one item in it. Soon we’ll let users provide the information that’s stored in a list, so we won’t be able to assume that a list has any items in it each time a loop is run. In this situation, it’s useful to check whether a list is empty before running a for loop."
      ]
    },
    {
      "metadata": {
        "id": "m3jK_u_gJy1D",
        "colab_type": "text"
      },
      "cell_type": "markdown",
      "source": [
        "As an example, let’s check whether the list of requested toppings is empty before building the pizza. If the list is empty, we’ll prompt the user and make sure they want a plain pizza. If the list is not empty, we’ll build the pizza just as we did in the previous examples:"
      ]
    },
    {
      "metadata": {
        "id": "ExUmyeduJ0Nl",
        "colab_type": "code",
        "colab": {}
      },
      "cell_type": "code",
      "source": [
        "requested_toppings = []\n",
        "\n",
        "if requested_toppings:\n",
        "    for requested_topping in requested_toppings:\n",
        "        print(\"Adding \" + requested_topping + \".\")\n",
        "    print(\"\\nFinished making your pizza!\")\n",
        "else:\n",
        "    print(\"Are you sure you want a plain pizza?\")"
      ],
      "execution_count": 0,
      "outputs": []
    },
    {
      "metadata": {
        "id": "0W9ho1eAKGVB",
        "colab_type": "text"
      },
      "cell_type": "markdown",
      "source": [
        "### Using Multiple Lists\n",
        "Let’s watch out for unusual topping requests before we build a pizza. The following example defines two lists. The first is a list of available toppings at the pizzeria, and the second is the list of toppings that the user has requested. This time, each item in requested_toppings is checked against the list of available toppings before it’s added to the pizza:"
      ]
    },
    {
      "metadata": {
        "id": "mJRXhBhSM4oZ",
        "colab_type": "code",
        "colab": {}
      },
      "cell_type": "code",
      "source": [
        "available_toppings = ['mushrooms', 'olives', 'green peppers', \n",
        "                      'pepperoni', 'pineapple', 'extra cheese']\n",
        "\n",
        "requested_toppings = ['mushrooms', 'french fries', 'extra cheese']\n",
        "\n",
        "for requested_topping in requested_toppings:\n",
        "    if requested_topping in available_toppings:\n",
        "        print(\"Adding \" + requested_topping + \".\")\n",
        "    else:\n",
        "        print(\"Sorry, we don't have \" + requested_topping + \".\")\n",
        "    print(\"\\nFinished making your pizza!\")"
      ],
      "execution_count": 0,
      "outputs": []
    },
    {
      "metadata": {
        "id": "5_BlVBsZNUq7",
        "colab_type": "text"
      },
      "cell_type": "markdown",
      "source": [
        "\n",
        "\n",
        "---\n",
        "\n"
      ]
    },
    {
      "metadata": {
        "id": "DMB9MFTeNFAM",
        "colab_type": "text"
      },
      "cell_type": "markdown",
      "source": [
        "## Styling Your if Statements\n",
        "The only recommendation PEP 8 provides for styling conditional tests is to use a single space around comparison operators, such as `==, >=, <=.` For example:"
      ]
    },
    {
      "metadata": {
        "id": "qmpWlA1JNUKj",
        "colab_type": "code",
        "colab": {}
      },
      "cell_type": "code",
      "source": [
        "age = 4\n",
        "\n",
        "print(age < 4)   #Better\n",
        "print(age<4)"
      ],
      "execution_count": 0,
      "outputs": []
    },
    {
      "metadata": {
        "id": "TiZiTRw5NiSR",
        "colab_type": "text"
      },
      "cell_type": "markdown",
      "source": [
        "Such spacing does not affect the way Python interprets your code; it just makes your code easier for you and others to read."
      ]
    }
  ]
}